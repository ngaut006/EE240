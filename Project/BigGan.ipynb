{
 "cells": [
  {
   "cell_type": "markdown",
   "id": "5d917998-41b5-486d-8f56-56a5199e3071",
   "metadata": {},
   "source": [
    "## *ESSENTIAL LIBRARY IMPORTS*"
   ]
  },
  {
   "cell_type": "code",
   "execution_count": 67,
   "id": "719a4352-065a-4b73-8274-84094871d5f8",
   "metadata": {},
   "outputs": [],
   "source": [
    "import numpy as np\n",
    "import pandas as pd\n",
    "import matplotlib.pyplot as plt\n",
    "import os\n",
    "import glob\n",
    "\n",
    "from tqdm import tqdm\n",
    "import xml.etree.ElementTree as ET\n",
    "\n",
    "from torch import nn, optim\n",
    "from torch import autograd\n",
    "import torch.nn.functional as F\n",
    "from torch.nn import Parameter\n",
    "from torchvision import datasets, transforms\n",
    "from torchvision.utils import save_image\n",
    "from torch.utils.data import Dataset,DataLoader,Subset\n",
    "from PIL import Image,ImageOps,ImageEnhance"
   ]
  },
  {
   "cell_type": "markdown",
   "id": "a8ed7787-1aeb-4cab-978d-21529ab78f5a",
   "metadata": {},
   "source": [
    "## *FETCHING THE DATASET*"
   ]
  },
  {
   "cell_type": "markdown",
   "id": "950d84e5-7611-4873-b6cd-22c3a2b43c2f",
   "metadata": {},
   "source": [
    "The dataset consists of a large collection of images, with each image corresponding to a specific dog breed. It covers a wide range of dog breeds, including popular ones like Labrador Retriever, German Shepherd, Chihuahua, and many others. The dataset provides a diverse set of images capturing various angles, poses, and appearances of different dog breeds.\n",
    "\n",
    "Each image in the dataset is accompanied by annotations, which include the bounding box coordinates and the corresponding breed label. These annotations are valuable for tasks such as object detection and localization. The dataset also includes a hierarchical taxonomy of dog breeds, which provides a hierarchical structure for the breeds based on their lineage.\n",
    "\n",
    "The Stanford Dogs dataset has been widely used for training and evaluating deep learning models in the field of computer vision. Researchers and practitioners leverage this dataset to develop algorithms that can recognize and classify dog breeds accurately. It has also been used as a benchmark dataset for evaluating the performance of different image recognition models."
   ]
  },
  {
   "cell_type": "code",
   "execution_count": 10,
   "id": "8a633cc6-bb95-4e5c-b4f9-8b9911de004b",
   "metadata": {},
   "outputs": [],
   "source": [
    "# Setting the Paths to the dataset Folders\n",
    "\n",
    "image_path = 'C:/Users/nitya/OneDrive/Documents/GitHub Docs/EE240/Project/Datasets/all-dogs/all-dogs'\n",
    "annotations_path = 'C:/Users/nitya/OneDrive/Documents/GitHub Docs/EE240/Project/Datasets/Annotation/Annotation'"
   ]
  },
  {
   "cell_type": "markdown",
   "id": "2099e2ca-dccf-4716-a2c4-6837cfdeea1f",
   "metadata": {},
   "source": [
    "## *PREPROCESSING*"
   ]
  },
  {
   "cell_type": "code",
   "execution_count": 11,
   "id": "e79eb669-2f5f-4e65-8f99-34b0f78003cc",
   "metadata": {},
   "outputs": [],
   "source": [
    "# Specifying Parameters\n",
    "BATCH_SIZE = 32\n",
    "NUM_WORKERS = 4\n",
    "EMA = False\n",
    "LABEL_NOISE = False\n",
    "LABEL_NOISE_PROB = 0.1"
   ]
  },
  {
   "cell_type": "code",
   "execution_count": 12,
   "id": "20ec8ece-2616-4b46-83e7-57a652cc60a0",
   "metadata": {},
   "outputs": [
    {
     "name": "stdout",
     "output_type": "stream",
     "text": [
      "20579\n"
     ]
    }
   ],
   "source": [
    "images_path = image_path\n",
    "\n",
    "img_filenames = []\n",
    "for dirpath, dirnames, filenames in os.walk(images_path):\n",
    "    img_filenames.extend(filenames)\n",
    "\n",
    "print(len(img_filenames))"
   ]
  },
  {
   "cell_type": "code",
   "execution_count": 13,
   "id": "61d8dc24-ad4f-4624-914f-538923b9e5d3",
   "metadata": {},
   "outputs": [
    {
     "data": {
      "text/plain": [
       "20580"
      ]
     },
     "execution_count": 13,
     "metadata": {},
     "output_type": "execute_result"
    }
   ],
   "source": [
    "annotations = []\n",
    "\n",
    "# os.walk() generates the file names in a directory tree\n",
    "for subdir, dirs, files in os.walk(annotations_path):\n",
    "    for file in files:\n",
    "        annotations.append(file)\n",
    "\n",
    "# prints the list of all file names\n",
    "len(annotations)"
   ]
  },
  {
   "cell_type": "code",
   "execution_count": 47,
   "id": "866c127c-ef63-4356-8451-85ed383a359d",
   "metadata": {},
   "outputs": [
    {
     "data": {
      "text/plain": [
       "120"
      ]
     },
     "execution_count": 47,
     "metadata": {},
     "output_type": "execute_result"
    }
   ],
   "source": [
    "breeds = glob.glob(annotations_path + '*')\n",
    "annotations = []\n",
    "\n",
    "for breed in breeds:\n",
    "    annotations += glob.glob(breed + '/*')\n",
    "\n",
    "len(annotations)"
   ]
  },
  {
   "cell_type": "code",
   "execution_count": 54,
   "id": "a24b540a-6f97-4dfa-8abc-0432c5ade16f",
   "metadata": {},
   "outputs": [
    {
     "data": {
      "text/plain": [
       "120"
      ]
     },
     "execution_count": 54,
     "metadata": {},
     "output_type": "execute_result"
    }
   ],
   "source": [
    "breed_map = {}\n",
    "\n",
    "for annotation in annotations:\n",
    "    breed = annotation.split('/')[-1]\n",
    "    parts = breed.split('-')\n",
    "    index = parts[0].split('\\\\')[-1]  # Extract the last part of the index after splitting by '\\\\'\n",
    "    breed_name = '-'.join(parts[1:])\n",
    "    breed_map.setdefault(index, index + '-' + breed_name)\n",
    "    \n",
    "n_classes = len(breed_map)\n",
    "n_classes"
   ]
  },
  {
   "cell_type": "code",
   "execution_count": 55,
   "id": "9e835dd8-5fca-448c-afcf-1355988bb297",
   "metadata": {},
   "outputs": [
    {
     "data": {
      "text/plain": [
       "{'n02085620': 'n02085620-Chihuahua',\n",
       " 'n02085782': 'n02085782-Japanese_spaniel',\n",
       " 'n02085936': 'n02085936-Maltese_dog',\n",
       " 'n02086079': 'n02086079-Pekinese',\n",
       " 'n02086240': 'n02086240-Shih-Tzu',\n",
       " 'n02086646': 'n02086646-Blenheim_spaniel',\n",
       " 'n02086910': 'n02086910-papillon',\n",
       " 'n02087046': 'n02087046-toy_terrier',\n",
       " 'n02087394': 'n02087394-Rhodesian_ridgeback',\n",
       " 'n02088094': 'n02088094-Afghan_hound',\n",
       " 'n02088238': 'n02088238-basset',\n",
       " 'n02088364': 'n02088364-beagle',\n",
       " 'n02088466': 'n02088466-bloodhound',\n",
       " 'n02088632': 'n02088632-bluetick',\n",
       " 'n02089078': 'n02089078-black-and-tan_coonhound',\n",
       " 'n02089867': 'n02089867-Walker_hound',\n",
       " 'n02089973': 'n02089973-English_foxhound',\n",
       " 'n02090379': 'n02090379-redbone',\n",
       " 'n02090622': 'n02090622-borzoi',\n",
       " 'n02090721': 'n02090721-Irish_wolfhound',\n",
       " 'n02091032': 'n02091032-Italian_greyhound',\n",
       " 'n02091134': 'n02091134-whippet',\n",
       " 'n02091244': 'n02091244-Ibizan_hound',\n",
       " 'n02091467': 'n02091467-Norwegian_elkhound',\n",
       " 'n02091635': 'n02091635-otterhound',\n",
       " 'n02091831': 'n02091831-Saluki',\n",
       " 'n02092002': 'n02092002-Scottish_deerhound',\n",
       " 'n02092339': 'n02092339-Weimaraner',\n",
       " 'n02093256': 'n02093256-Staffordshire_bullterrier',\n",
       " 'n02093428': 'n02093428-American_Staffordshire_terrier',\n",
       " 'n02093647': 'n02093647-Bedlington_terrier',\n",
       " 'n02093754': 'n02093754-Border_terrier',\n",
       " 'n02093859': 'n02093859-Kerry_blue_terrier',\n",
       " 'n02093991': 'n02093991-Irish_terrier',\n",
       " 'n02094114': 'n02094114-Norfolk_terrier',\n",
       " 'n02094258': 'n02094258-Norwich_terrier',\n",
       " 'n02094433': 'n02094433-Yorkshire_terrier',\n",
       " 'n02095314': 'n02095314-wire-haired_fox_terrier',\n",
       " 'n02095570': 'n02095570-Lakeland_terrier',\n",
       " 'n02095889': 'n02095889-Sealyham_terrier',\n",
       " 'n02096051': 'n02096051-Airedale',\n",
       " 'n02096177': 'n02096177-cairn',\n",
       " 'n02096294': 'n02096294-Australian_terrier',\n",
       " 'n02096437': 'n02096437-Dandie_Dinmont',\n",
       " 'n02096585': 'n02096585-Boston_bull',\n",
       " 'n02097047': 'n02097047-miniature_schnauzer',\n",
       " 'n02097130': 'n02097130-giant_schnauzer',\n",
       " 'n02097209': 'n02097209-standard_schnauzer',\n",
       " 'n02097298': 'n02097298-Scotch_terrier',\n",
       " 'n02097474': 'n02097474-Tibetan_terrier',\n",
       " 'n02097658': 'n02097658-silky_terrier',\n",
       " 'n02098105': 'n02098105-soft-coated_wheaten_terrier',\n",
       " 'n02098286': 'n02098286-West_Highland_white_terrier',\n",
       " 'n02098413': 'n02098413-Lhasa',\n",
       " 'n02099267': 'n02099267-flat-coated_retriever',\n",
       " 'n02099429': 'n02099429-curly-coated_retriever',\n",
       " 'n02099601': 'n02099601-golden_retriever',\n",
       " 'n02099712': 'n02099712-Labrador_retriever',\n",
       " 'n02099849': 'n02099849-Chesapeake_Bay_retriever',\n",
       " 'n02100236': 'n02100236-German_short-haired_pointer',\n",
       " 'n02100583': 'n02100583-vizsla',\n",
       " 'n02100735': 'n02100735-English_setter',\n",
       " 'n02100877': 'n02100877-Irish_setter',\n",
       " 'n02101006': 'n02101006-Gordon_setter',\n",
       " 'n02101388': 'n02101388-Brittany_spaniel',\n",
       " 'n02101556': 'n02101556-clumber',\n",
       " 'n02102040': 'n02102040-English_springer',\n",
       " 'n02102177': 'n02102177-Welsh_springer_spaniel',\n",
       " 'n02102318': 'n02102318-cocker_spaniel',\n",
       " 'n02102480': 'n02102480-Sussex_spaniel',\n",
       " 'n02102973': 'n02102973-Irish_water_spaniel',\n",
       " 'n02104029': 'n02104029-kuvasz',\n",
       " 'n02104365': 'n02104365-schipperke',\n",
       " 'n02105056': 'n02105056-groenendael',\n",
       " 'n02105162': 'n02105162-malinois',\n",
       " 'n02105251': 'n02105251-briard',\n",
       " 'n02105412': 'n02105412-kelpie',\n",
       " 'n02105505': 'n02105505-komondor',\n",
       " 'n02105641': 'n02105641-Old_English_sheepdog',\n",
       " 'n02105855': 'n02105855-Shetland_sheepdog',\n",
       " 'n02106030': 'n02106030-collie',\n",
       " 'n02106166': 'n02106166-Border_collie',\n",
       " 'n02106382': 'n02106382-Bouvier_des_Flandres',\n",
       " 'n02106550': 'n02106550-Rottweiler',\n",
       " 'n02106662': 'n02106662-German_shepherd',\n",
       " 'n02107142': 'n02107142-Doberman',\n",
       " 'n02107312': 'n02107312-miniature_pinscher',\n",
       " 'n02107574': 'n02107574-Greater_Swiss_Mountain_dog',\n",
       " 'n02107683': 'n02107683-Bernese_mountain_dog',\n",
       " 'n02107908': 'n02107908-Appenzeller',\n",
       " 'n02108000': 'n02108000-EntleBucher',\n",
       " 'n02108089': 'n02108089-boxer',\n",
       " 'n02108422': 'n02108422-bull_mastiff',\n",
       " 'n02108551': 'n02108551-Tibetan_mastiff',\n",
       " 'n02108915': 'n02108915-French_bulldog',\n",
       " 'n02109047': 'n02109047-Great_Dane',\n",
       " 'n02109525': 'n02109525-Saint_Bernard',\n",
       " 'n02109961': 'n02109961-Eskimo_dog',\n",
       " 'n02110063': 'n02110063-malamute',\n",
       " 'n02110185': 'n02110185-Siberian_husky',\n",
       " 'n02110627': 'n02110627-affenpinscher',\n",
       " 'n02110806': 'n02110806-basenji',\n",
       " 'n02110958': 'n02110958-pug',\n",
       " 'n02111129': 'n02111129-Leonberg',\n",
       " 'n02111277': 'n02111277-Newfoundland',\n",
       " 'n02111500': 'n02111500-Great_Pyrenees',\n",
       " 'n02111889': 'n02111889-Samoyed',\n",
       " 'n02112018': 'n02112018-Pomeranian',\n",
       " 'n02112137': 'n02112137-chow',\n",
       " 'n02112350': 'n02112350-keeshond',\n",
       " 'n02112706': 'n02112706-Brabancon_griffon',\n",
       " 'n02113023': 'n02113023-Pembroke',\n",
       " 'n02113186': 'n02113186-Cardigan',\n",
       " 'n02113624': 'n02113624-toy_poodle',\n",
       " 'n02113712': 'n02113712-miniature_poodle',\n",
       " 'n02113799': 'n02113799-standard_poodle',\n",
       " 'n02113978': 'n02113978-Mexican_hairless',\n",
       " 'n02115641': 'n02115641-dingo',\n",
       " 'n02115913': 'n02115913-dhole',\n",
       " 'n02116738': 'n02116738-African_hunting_dog'}"
      ]
     },
     "execution_count": 55,
     "metadata": {},
     "output_type": "execute_result"
    }
   ],
   "source": [
    "breed_map"
   ]
  },
  {
   "cell_type": "code",
   "execution_count": 56,
   "id": "b4691d5c-4c9f-423f-8d88-bc41f3bf1605",
   "metadata": {},
   "outputs": [],
   "source": [
    "#https://www.kaggle.com/whizzkid/crop-images-using-bounding-box\n",
    "def bounding_box(img):\n",
    "    \"\"\"\n",
    "    Reads bounding box coordinates from an XML file and returns a list of tuples representing the bounding boxes.\n",
    "\n",
    "    Args:\n",
    "        img (str): The image filename or identifier.\n",
    "\n",
    "    Returns:\n",
    "        list: A list of tuples representing the bounding box coordinates in the format (xmin, ymin, xmax, ymax).\n",
    "    \"\"\"\n",
    "    # Construct the path to the XML file using annotations_path, breed_map, and the image identifier\n",
    "    bpath = annotations_path + '/' + str(breed_map[img.split('_')[0]]) + '/' + str(img.split('.')[0])\n",
    "\n",
    "    # Parse the XML file\n",
    "    tree = ET.parse(bpath)\n",
    "    root = tree.getroot()\n",
    "    \n",
    "    # Find all 'object' elements in the XML\n",
    "    objects = root.findall('object')\n",
    "    \n",
    "    # Initialize an empty list to store the bounding box coordinates\n",
    "    bbxs = []\n",
    "    \n",
    "    # Iterate over each 'object' element\n",
    "    for o in objects:\n",
    "        # Find the 'bndbox' element within the 'object'\n",
    "        bndbox = o.find('bndbox')\n",
    "        \n",
    "        # Read and convert the coordinates to integers\n",
    "        xmin = int(bndbox.find('xmin').text)\n",
    "        ymin = int(bndbox.find('ymin').text)\n",
    "        xmax = int(bndbox.find('xmax').text)\n",
    "        ymax = int(bndbox.find('ymax').text)\n",
    "        \n",
    "        # Append the bounding box coordinates as a tuple to the bbxs list\n",
    "        bbxs.append((xmin, ymin, xmax, ymax))\n",
    "    \n",
    "    # Return the list of bounding box coordinates\n",
    "    return bbxs"
   ]
  },
  {
   "cell_type": "code",
   "execution_count": 57,
   "id": "ab58223d-8eba-4b80-b7d6-034c1a7ef17c",
   "metadata": {},
   "outputs": [],
   "source": [
    "def bounding_box_ratio(img):\n",
    "    \"\"\"\n",
    "    Reads bounding box coordinates from an XML file and calculates the width, height, and ratio for each bounding box.\n",
    "    Returns a list of tuples representing the bounding box information.\n",
    "\n",
    "    Args:\n",
    "        img (str): The image filename or identifier.\n",
    "\n",
    "    Returns:\n",
    "        list: A list of tuples representing the bounding box information in the format (width, height, ratio).\n",
    "    \"\"\"\n",
    "    # Construct the path to the XML file using annotations_path, breed_map, and the image identifier\n",
    "    bpath = annotations_path + '/' + str(breed_map[img.split('_')[0]]) + '/' + str(img.split('.')[0])\n",
    "\n",
    "    # Parse the XML file\n",
    "    tree = ET.parse(bpath)\n",
    "    root = tree.getroot()\n",
    "\n",
    "    # Find all 'object' elements in the XML\n",
    "    objects = root.findall('object')\n",
    "\n",
    "    # Initialize an empty list to store the bounding box information\n",
    "    bbx_ratios = []\n",
    "\n",
    "    # Iterate over each 'object' element\n",
    "    for o in objects:\n",
    "        # Find the 'bndbox' element within the 'object'\n",
    "        bndbox = o.find('bndbox')\n",
    "\n",
    "        # Read and convert the coordinates to integers\n",
    "        xmin = int(bndbox.find('xmin').text)\n",
    "        ymin = int(bndbox.find('ymin').text)\n",
    "        xmax = int(bndbox.find('xmax').text)\n",
    "        ymax = int(bndbox.find('ymax').text)\n",
    "\n",
    "        # Calculate the width and height of the bounding box\n",
    "        xlen = xmax - xmin\n",
    "        ylen = ymax - ymin\n",
    "\n",
    "        # Calculate the ratio of height to width\n",
    "        ratio = ylen / xlen\n",
    "\n",
    "        # Append the bounding box information as a tuple to the bbx_ratios list\n",
    "        bbx_ratios.append((xlen, ylen, ratio))\n",
    "\n",
    "    # Return the list of bounding box information\n",
    "    return bbx_ratios"
   ]
  },
  {
   "cell_type": "code",
   "execution_count": 62,
   "id": "343a7a01-6082-4ea7-9722-7c7807015e14",
   "metadata": {},
   "outputs": [
    {
     "name": "stderr",
     "output_type": "stream",
     "text": [
      "100%|██████████| 20579/20579 [01:43<00:00, 198.65it/s]"
     ]
    },
    {
     "name": "stdout",
     "output_type": "stream",
     "text": [
      "\n",
      "\n",
      "original:  20579\n",
      "after th:  22119\n"
     ]
    },
    {
     "name": "stderr",
     "output_type": "stream",
     "text": [
      "\n"
     ]
    }
   ],
   "source": [
    "img_filenames_th = []  # Initialize an empty list to store image filenames that pass the ratio threshold\n",
    "ratios_th = []  # Initialize an empty list to store the ratios of bounding boxes that pass the threshold\n",
    "\n",
    "# Iterate over each image filename in the img_filenames list\n",
    "for img in tqdm(img_filenames):\n",
    "    # Get the bounding box ratios for the current image\n",
    "    bbx_ratios = bounding_box_ratio(img)\n",
    "    \n",
    "    # Iterate over each bounding box ratio in the bbx_ratios list\n",
    "    for i, (xlen, ylen, ratio) in enumerate(bbx_ratios):\n",
    "        # Check if the ratio is within the desired range (0.2 to 4.0)\n",
    "        if (ratio > 0.2) and (ratio < 4.0):\n",
    "            # Append the modified image filename and the ratio to the respective lists\n",
    "            img_filenames_th.append(img[:-4] + '_' + str(i) + '.jpg')\n",
    "            ratios_th.append(ratio)\n",
    "\n",
    "# Convert the ratios list to a numpy array for further processing\n",
    "ratios_th = np.array(ratios_th)\n",
    "\n",
    "print()\n",
    "\n",
    "# Print the original number of image filenames and the number after applying the threshold\n",
    "print()\n",
    "print('original: ', len(img_filenames))\n",
    "print('after th: ', len(img_filenames_th))"
   ]
  },
  {
   "cell_type": "code",
   "execution_count": 63,
   "id": "9052c87b-185e-4223-968a-010b9fea8c04",
   "metadata": {},
   "outputs": [
    {
     "data": {
      "text/plain": [
       "60"
      ]
     },
     "execution_count": 63,
     "metadata": {},
     "output_type": "execute_result"
    }
   ],
   "source": [
    "#from https://www.kaggle.com/korovai/dogs-images-intruders-extraction\n",
    "intruders = [\n",
    "    #n02088238-basset\n",
    "    'n02088238_10870_0.jpg',\n",
    "    \n",
    "    #n02088466-bloodhound\n",
    "    'n02088466_6901_1.jpg',\n",
    "    'n02088466_6963_0.jpg',\n",
    "    'n02088466_9167_0.jpg',\n",
    "    'n02088466_9167_1.jpg',\n",
    "    'n02088466_9167_2.jpg',\n",
    "    \n",
    "    #n02089867-Walker_hound\n",
    "    'n02089867_2221_0.jpg',\n",
    "    'n02089867_2227_1.jpg',\n",
    "    \n",
    "    #n02089973-English_foxhound # No details\n",
    "    'n02089973_1132_3.jpg',\n",
    "    'n02089973_1352_3.jpg',\n",
    "    'n02089973_1458_1.jpg',\n",
    "    'n02089973_1799_2.jpg',\n",
    "    'n02089973_2791_3.jpg',\n",
    "    'n02089973_4055_0.jpg',\n",
    "    'n02089973_4185_1.jpg',\n",
    "    'n02089973_4185_2.jpg',\n",
    "    \n",
    "    #n02090379-redbone\n",
    "    'n02090379_4673_1.jpg',\n",
    "    'n02090379_4875_1.jpg',\n",
    "    \n",
    "    #n02090622-borzoi # Confusing\n",
    "    'n02090622_7705_1.jpg',\n",
    "    'n02090622_9358_1.jpg',\n",
    "    'n02090622_9883_1.jpg',\n",
    "    \n",
    "    #n02090721-Irish_wolfhound # very small\n",
    "    'n02090721_209_1.jpg',\n",
    "    'n02090721_1222_1.jpg',\n",
    "    'n02090721_1534_1.jpg',\n",
    "    'n02090721_1835_1.jpg',\n",
    "    'n02090721_3999_1.jpg',\n",
    "    'n02090721_4089_1.jpg',\n",
    "    'n02090721_4276_2.jpg',\n",
    "    \n",
    "    #n02091032-Italian_greyhound\n",
    "    'n02091032_722_1.jpg',\n",
    "    'n02091032_745_1.jpg',\n",
    "    'n02091032_1773_0.jpg',\n",
    "    'n02091032_9592_0.jpg',\n",
    "    \n",
    "    #n02091134-whippet\n",
    "    'n02091134_2349_1.jpg',\n",
    "    'n02091134_14246_2.jpg',\n",
    "    \n",
    "    #n02091244-Ibizan_hound\n",
    "    'n02091244_583_1.jpg',\n",
    "    'n02091244_2407_0.jpg',\n",
    "    'n02091244_3438_1.jpg',\n",
    "    'n02091244_5639_1.jpg',\n",
    "    'n02091244_5639_2.jpg',\n",
    "    \n",
    "    #n02091467-Norwegian_elkhound\n",
    "    'n02091467_473_0.jpg',\n",
    "    'n02091467_4386_1.jpg',\n",
    "    'n02091467_4427_1.jpg',\n",
    "    'n02091467_4558_1.jpg',\n",
    "    'n02091467_4560_1.jpg',\n",
    "    \n",
    "    #n02091635-otterhound\n",
    "    'n02091635_1192_1.jpg',\n",
    "    'n02091635_4422_0.jpg',\n",
    "    \n",
    "    #n02091831-Saluki\n",
    "    'n02091831_1594_1.jpg',\n",
    "    'n02091831_2880_0.jpg',\n",
    "    'n02091831_7237_1.jpg',\n",
    "    \n",
    "    #n02092002-Scottish_deerhound\n",
    "    'n02092002_1551_1.jpg',\n",
    "    'n02092002_1937_1.jpg',\n",
    "    'n02092002_4218_0.jpg',\n",
    "    'n02092002_4596_0.jpg',\n",
    "    'n02092002_5246_1.jpg',\n",
    "    'n02092002_6518_0.jpg',\n",
    "    \n",
    "    #02093256-Staffordshire_bullterrier\n",
    "    'n02093256_1826_1.jpg',\n",
    "    'n02093256_4997_0.jpg',\n",
    "    'n02093256_14914_0.jpg',\n",
    "    \n",
    "    #n02093428-American_Staffordshire_terrier\n",
    "    'n02093428_5662_0.jpg',\n",
    "    'n02093428_6949_1.jpg'\n",
    "            ]\n",
    "\n",
    "len(intruders)"
   ]
  },
  {
   "cell_type": "code",
   "execution_count": 64,
   "id": "5edb6cbb-8d85-408e-9d01-5b6e10a4204a",
   "metadata": {},
   "outputs": [],
   "source": [
    "def data_preprocessing(img_path,bbx_idx):\n",
    "    bbx = bounding_box(img_path)[bbx_idx]\n",
    "    img  = Image.open(os.path.join(images_path,img_path))\n",
    "    img_cropped  = img.crop(bbx)\n",
    "    return img_cropped"
   ]
  },
  {
   "cell_type": "code",
   "execution_count": 65,
   "id": "b455fe62-5425-474c-a29a-31d3f25ac190",
   "metadata": {},
   "outputs": [],
   "source": [
    "breed_map_2 = {}\n",
    "for i,b in enumerate(breed_map.keys()):\n",
    "    breed_map_2[b] = i"
   ]
  },
  {
   "cell_type": "code",
   "execution_count": 68,
   "id": "2d4299f9-3dcc-4acb-b9a5-fdaa0f847999",
   "metadata": {},
   "outputs": [],
   "source": [
    "class DogDataset(Dataset):\n",
    "    def __init__(self, path, img_list, transform1=None, transform2=None):\n",
    "        self.path      = path\n",
    "        self.img_list  = img_list\n",
    "        self.transform1 = transform1\n",
    "        self.transform2 = transform2\n",
    "        \n",
    "        self.imgs   = []\n",
    "        self.labels = []\n",
    "        for i,full_img_path in enumerate(self.img_list):\n",
    "            if full_img_path in intruders:\n",
    "                continue\n",
    "            #img\n",
    "            img_path = full_img_path[:-6]+'.jpg'\n",
    "            bbx_idx  = int(full_img_path[-5])\n",
    "            img = data_preprocessing(img_path,bbx_idx)\n",
    "            if self.transform1:\n",
    "                img = self.transform1(img) #output shape=(ch,h,w)\n",
    "            self.imgs.append(img)\n",
    "            #label\n",
    "            label = breed_map_2[img_path.split('_')[0]]\n",
    "            self.labels.append(label)\n",
    "            \n",
    "    def __len__(self):\n",
    "        return len(self.imgs)\n",
    "    \n",
    "    def __getitem__(self,idx):\n",
    "        img = self.imgs[idx]\n",
    "        if self.transform2:\n",
    "            img = self.transform2(img)\n",
    "        label = self.labels[idx]\n",
    "        return {'img':img, 'label':label}"
   ]
  },
  {
   "cell_type": "code",
   "execution_count": 69,
   "id": "c6885c06-384e-4d4f-969e-96a6c43ca6c7",
   "metadata": {},
   "outputs": [],
   "source": [
    "img_size    = 64\n",
    "batch_size  = BATCH_SIZE\n",
    "MEAN1,MEAN2,MEAN3 = 0.5, 0.5, 0.5\n",
    "STD1,STD2,STD3    = 0.5, 0.5, 0.5\n",
    "\n",
    "transform1 = transforms.Compose([transforms.Resize(img_size)])\n",
    "\n",
    "transform2 = transforms.Compose([transforms.RandomCrop(img_size),\n",
    "                                 #transforms.RandomAffine(degrees=5),\n",
    "                                 transforms.RandomHorizontalFlip(p=0.5),\n",
    "                                 #transforms.RandomApply(random_transforms, p=0.3),\n",
    "                                 transforms.ToTensor(),\n",
    "                                 transforms.Normalize(mean=[MEAN1, MEAN2, MEAN3],\n",
    "                                                      std=[STD1, STD2, STD3]),\n",
    "                                ])\n",
    "\n",
    "train_set = DogDataset(path=images_path,\n",
    "                       img_list=img_filenames_th,\n",
    "                       transform1=transform1,\n",
    "                       transform2=transform2,\n",
    "                      )\n",
    "\n",
    "train_loader = DataLoader(train_set,\n",
    "                          shuffle=True, batch_size=batch_size,\n",
    "                          num_workers=NUM_WORKERS, pin_memory=True)"
   ]
  },
  {
   "cell_type": "code",
   "execution_count": 70,
   "id": "032d444a-ca7b-421b-a9ad-823a3148402c",
   "metadata": {},
   "outputs": [
    {
     "data": {
      "text/plain": [
       "22059"
      ]
     },
     "execution_count": 70,
     "metadata": {},
     "output_type": "execute_result"
    }
   ],
   "source": [
    "len(train_set)"
   ]
  },
  {
   "cell_type": "code",
   "execution_count": 71,
   "id": "484124b2-4115-48cd-8f21-c2a45e4334d2",
   "metadata": {},
   "outputs": [
    {
     "data": {
      "image/png": "[encoded data removed]",
      "text/plain": [
       "<PIL.Image.Image image mode=RGB size=64x98>"
      ]
     },
     "execution_count": 71,
     "metadata": {},
     "output_type": "execute_result"
    }
   ],
   "source": [
    "img = data_preprocessing(img_filenames_th[1500][:-6]+'.jpg',0)\n",
    "img = transform1(img)\n",
    "img"
   ]
  },
  {
   "cell_type": "code",
   "execution_count": null,
   "id": "11911548-27f7-47fe-9289-bef5f50b19ea",
   "metadata": {},
   "outputs": [],
   "source": []
  }
 ],
 "metadata": {
  "kernelspec": {
   "display_name": "Python 3 (ipykernel)",
   "language": "python",
   "name": "python3"
  },
  "language_info": {
   "codemirror_mode": {
    "name": "ipython",
    "version": 3
   },
   "file_extension": ".py",
   "mimetype": "text/x-python",
   "name": "python",
   "nbconvert_exporter": "python",
   "pygments_lexer": "ipython3",
   "version": "3.9.15"
  }
 },
 "nbformat": 4,
 "nbformat_minor": 5
}
