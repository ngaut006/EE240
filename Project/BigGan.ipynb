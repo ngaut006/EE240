{
 "cells": [
  {
   "cell_type": "markdown",
   "id": "5d917998-41b5-486d-8f56-56a5199e3071",
   "metadata": {},
   "source": [
    "## *ESSENTIAL LIBRARY IMPORTS*"
   ]
  },
  {
   "cell_type": "code",
   "execution_count": 22,
   "id": "719a4352-065a-4b73-8274-84094871d5f8",
   "metadata": {},
   "outputs": [],
   "source": [
    "import numpy as np\n",
    "import pandas as pd\n",
    "import matplotlib.pyplot as plt\n",
    "import os\n",
    "import glob"
   ]
  },
  {
   "cell_type": "markdown",
   "id": "a8ed7787-1aeb-4cab-978d-21529ab78f5a",
   "metadata": {},
   "source": [
    "## *FETCHING THE DATASET*"
   ]
  },
  {
   "cell_type": "code",
   "execution_count": 23,
   "id": "8a633cc6-bb95-4e5c-b4f9-8b9911de004b",
   "metadata": {},
   "outputs": [],
   "source": [
    "# Setting the Paths to the dataset Folders\n",
    "\n",
    "image_path = 'OneDrive/Documents/GitHub Docs/EE240/Project/Datasets/all-dogs/all-dogs'\n",
    "annotations_path = 'OneDrive/Documents/GitHub Docs/EE240/Project/Datasets/Annotation/Annotation'"
   ]
  },
  {
   "cell_type": "markdown",
   "id": "2099e2ca-dccf-4716-a2c4-6837cfdeea1f",
   "metadata": {},
   "source": [
    "## *PREPROCESSING*"
   ]
  },
  {
   "cell_type": "code",
   "execution_count": 24,
   "id": "e79eb669-2f5f-4e65-8f99-34b0f78003cc",
   "metadata": {},
   "outputs": [],
   "source": [
    "# Specifying Parameters\n",
    "BATCH_SIZE = 32\n",
    "NUM_WORKERS = 4\n",
    "EMA = False\n",
    "LABEL_NOISE = False\n",
    "LABEL_NOISE_PROB = 0.1"
   ]
  },
  {
   "cell_type": "code",
   "execution_count": 25,
   "id": "20ec8ece-2616-4b46-83e7-57a652cc60a0",
   "metadata": {},
   "outputs": [
    {
     "name": "stdout",
     "output_type": "stream",
     "text": [
      "0\n"
     ]
    }
   ],
   "source": [
    "images_path = image_path\n",
    "\n",
    "img_filenames = []\n",
    "for dirpath, dirnames, filenames in os.walk(images_path):\n",
    "    img_filenames.extend(filenames)\n",
    "\n",
    "print(len(img_filenames))"
   ]
  },
  {
   "cell_type": "code",
   "execution_count": 26,
   "id": "61d8dc24-ad4f-4624-914f-538923b9e5d3",
   "metadata": {},
   "outputs": [
    {
     "data": {
      "text/plain": [
       "0"
      ]
     },
     "execution_count": 26,
     "metadata": {},
     "output_type": "execute_result"
    }
   ],
   "source": [
    "annotations = []\n",
    "\n",
    "# os.walk() generates the file names in a directory tree\n",
    "for subdir, dirs, files in os.walk(annotations_path):\n",
    "    for file in files:\n",
    "        annotations.append(file)\n",
    "\n",
    "# prints the list of all file names\n",
    "len(annotations)"
   ]
  },
  {
   "cell_type": "code",
   "execution_count": 27,
   "id": "866c127c-ef63-4356-8451-85ed383a359d",
   "metadata": {},
   "outputs": [
    {
     "data": {
      "text/plain": [
       "0"
      ]
     },
     "execution_count": 27,
     "metadata": {},
     "output_type": "execute_result"
    }
   ],
   "source": [
    "breeds = glob.glob(annotations_path + '*')\n",
    "annotations = []\n",
    "\n",
    "for breed in breeds:\n",
    "    annotations += glob.glob(breed + '/*')\n",
    "\n",
    "len(annotations)"
   ]
  },
  {
   "cell_type": "code",
   "execution_count": 28,
   "id": "a24b540a-6f97-4dfa-8abc-0432c5ade16f",
   "metadata": {},
   "outputs": [
    {
     "data": {
      "text/plain": [
       "0"
      ]
     },
     "execution_count": 28,
     "metadata": {},
     "output_type": "execute_result"
    }
   ],
   "source": [
    "breed_map = {}\n",
    "\n",
    "for annotation in annotations:\n",
    "    breed = annotation.split('/')[-1]\n",
    "    index = breed.split('-')[0]\n",
    "    breed_map.setdefault(index, breed)\n",
    "    \n",
    "n_classes = len(breed_map)\n",
    "n_classes                    "
   ]
  },
  {
   "cell_type": "code",
   "execution_count": null,
   "id": "9e835dd8-5fca-448c-afcf-1355988bb297",
   "metadata": {},
   "outputs": [],
   "source": []
  }
 ],
 "metadata": {
  "kernelspec": {
   "display_name": "Python 3 (ipykernel)",
   "language": "python",
   "name": "python3"
  },
  "language_info": {
   "codemirror_mode": {
    "name": "ipython",
    "version": 3
   },
   "file_extension": ".py",
   "mimetype": "text/x-python",
   "name": "python",
   "nbconvert_exporter": "python",
   "pygments_lexer": "ipython3",
   "version": "3.9.15"
  }
 },
 "nbformat": 4,
 "nbformat_minor": 5
}
