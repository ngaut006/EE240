{
 "cells": [
  {
   "cell_type": "markdown",
   "metadata": {
    "id": "gGtuNRP9s0jp"
   },
   "source": [
    "# ASSIGNMENT 1 EE:240 PATTERN RECOGNITION AND MACHINE LEARNING\n",
    "  *NAME: NITYASH GAUTAM*\n",
    "  \n",
    "  *SID: 862395403*\n",
    "\n",
    "  *UCR Email: ngaut006@ucr.edu*\n"
   ]
  },
  {
   "cell_type": "markdown",
   "metadata": {
    "id": "CZqO4nW5s2Iw"
   },
   "source": [
    "## H 2.1\n",
    "\n",
    "Logistic regression: Suppose we have labeled data (xi, yi).  We want to compute w that minimizes the following negative log-likelihood function:\n",
    "\n",
    "$$minimize_w ∑^N_{i=1}y_ilog(1+exp(-w^Tx_i)) + (1-y_i)log(1+exp(w^Tx_i))$$"
   ]
  },
  {
   "cell_type": "markdown",
   "metadata": {
    "id": "IbJveZRws_vi"
   },
   "source": [
    "### (a) Show the the following log-logistic function is convex: (10 pts)\n",
    "\n",
    "$$f(w) = log(1 + exp(−w^T x))$$\n",
    "\n",
    "You may assume that *x* is a scalar and show that the second derivative of *f(w)* w.r.t. *w* is always positive."
   ]
  },
  {
   "cell_type": "markdown",
   "metadata": {
    "id": "8EJzXGWztZFQ"
   },
   "source": [
    "\n",
    "\n",
    "> **SOLUTION**\n",
    "\n",
    "\n",
    "\n",
    "To show that the function $f(w) = \\log(1+\\exp(-w^⊤x))$ is convex, we need to show that its $2^{nd}$ derivative with respect to $w$ is always positive.\n",
    "\n",
    "*   Finding the derivative of $f(w)$ with respect to $w$:\n",
    "$$f'(w) = -x\\frac{exp(-w^Tx}{1+exp(-w^Tx}$$\n",
    "\n",
    "*  Finding the second derivative of $f(w)$ with respect to $w$:\n",
    "$$f''(w) = \\frac{x^2exp(-w^Tx)^2}{(1+exp(-w^Tx))^2}-\\frac{x^2exp(-w^Tx)}{(1+exp(-w^Tx))^2}$$\n",
    "\n",
    "To simplify, we see that \n",
    "\n",
    "$(1 + \\exp(-w^\\top x))^2 = (1 + \\exp(-w^\\top x))(1 + \\exp(-w^\\top x)) = 1 + 2\\exp(-w^\\top x) + \\exp(-2w^\\top x)$. \n",
    "\n",
    "In order to further simplify the expression for $f''(w)$:\n",
    "\n",
    "$$f''(w) = \\frac{x^2exp(-w^Tx)^2}{1+2exp(-w^Tx) + exp(-2w^Tx)} - \\frac{x^2exp(-w^Tx}{(1+2exp(-w^Tx) + exp(-2w^Tx))^2}$$\n",
    "\n",
    "Let, $z = \\exp(-w^⊤x)$\n",
    "\n",
    "$$f''(w) = \\frac{x^2z^2}{1+2z+z^2} - \\frac{x^2z}{(1+2z+z^2)^2}$$\n",
    "\n",
    "In order to show $f''(w)$ is positive, both the numerator and the denominator have to be proven positve!\n",
    "\n",
    "As $x$ and $exp(-2w^Tx)$ are positive => their products are +ve as well.\n",
    "\n",
    "*Therefore, the numerator is proven to be positive*\n",
    "\n",
    "Considering the denominator:\n",
    "\n",
    "$1+2z+z^2 = (1+z)^2$\n",
    "\n",
    "Square of any quantity is positive, hence, $(1+z)^2$ is also positve.\n",
    "\n",
    "*This establihsed the fact that the denominator is also positive*\n",
    "\n",
    "**Since the Numerator and the Denominator, both are positive, $f''(w)$ is always positive**\n",
    "\n",
    "\n",
    "> **Hence, $f(w) = log(1 + exp(−w^T x))$ is a convex function.**\n",
    "\n",
    "\n",
    "\n",
    "\n"
   ]
  },
  {
   "cell_type": "markdown",
   "metadata": {
    "id": "8JdeNUGR2kGZ"
   },
   "source": [
    "### (b) (40 pts) \n",
    "\n",
    "Next you will write a Python script for logistic regression that solves (1) using gradient descent algorithm with a fixed step size \n",
    ". You will then use your code to learn to classify images of digits from the MNIST dataset."
   ]
  },
  {
   "cell_type": "markdown",
   "metadata": {
    "id": "XC74-dVBIbM9"
   },
   "source": [
    "#### Essential Imports"
   ]
  },
  {
   "cell_type": "code",
   "execution_count": 1,
   "metadata": {
    "id": "Hldqg6VrIdz0"
   },
   "outputs": [],
   "source": [
    "import numpy as np\n",
    "from sklearn.datasets import fetch_openml\n",
    "import random\n",
    "import matplotlib.pyplot as plt\n",
    "from mpl_toolkits.mplot3d import Axes3D\n",
    "from sklearn.model_selection import train_test_split\n",
    "from sklearn import svm"
   ]
  },
  {
   "cell_type": "markdown",
   "metadata": {
    "id": "Tkbqet--Ir5f"
   },
   "source": [
    "#### Getting the Data"
   ]
  },
  {
   "cell_type": "code",
   "execution_count": 2,
   "metadata": {
    "colab": {
     "base_uri": "https://localhost:8080/"
    },
    "id": "dTVsBM8RIt4S",
    "outputId": "b0e048b8-77aa-495f-9567-abb90df789cd"
   },
   "outputs": [
    {
     "name": "stderr",
     "output_type": "stream",
     "text": [
      "/usr/local/lib/python3.10/dist-packages/sklearn/datasets/_openml.py:968: FutureWarning: The default value of `parser` will change from `'liac-arff'` to `'auto'` in 1.4. You can set `parser='auto'` to silence this warning. Therefore, an `ImportError` will be raised from 1.4 if the dataset is dense and pandas is not installed. Note that the pandas parser may return different data types. See the Notes Section in fetch_openml's API doc for details.\n",
      "  warn(\n"
     ]
    }
   ],
   "source": [
    "# Load the MNIST dataset\n",
    "X, y = fetch_openml(\"mnist_784\", version=1, return_X_y=True, as_frame=False)"
   ]
  },
  {
   "cell_type": "code",
   "execution_count": 3,
   "metadata": {
    "id": "HzzaT9F1Igcj"
   },
   "outputs": [],
   "source": [
    "# Choose only two digits\n",
    "class_0 = '3'\n",
    "class_1 = '1'\n",
    "X0 = X[y==class_0,:]\n",
    "X1 = X[y==class_1,:]\n",
    "y0 = np.zeros(X0.shape[0], int)\n",
    "y1 = np.ones(X1.shape[0], int)\n",
    "train_x = np.concatenate((X0, X1), axis=0)\n",
    "train_y = np.concatenate((y0, y1), axis=0)\n",
    "\n",
    "X0 = X[y==class_0,:]\n",
    "X1 = X[y==class_1,:]\n",
    "y0 = np.zeros(X0.shape[0], int)\n",
    "y1 = np.ones(X1.shape[0], int)\n",
    "test_x = np.concatenate((X0, X1), axis=0)\n",
    "test_y = np.concatenate((y0, y1), axis=0)"
   ]
  },
  {
   "cell_type": "code",
   "execution_count": 4,
   "metadata": {
    "id": "GCL_B4hZI25B"
   },
   "outputs": [],
   "source": [
    "# Append 1 for the constant term b\n",
    "train_x = np.insert(train_x, 0, 1, axis=1)\n",
    "test_x = np.insert(test_x, 0, 1, axis=1)"
   ]
  },
  {
   "cell_type": "markdown",
   "metadata": {
    "id": "AA4cVpyXI6LO"
   },
   "source": [
    "#### Helper Functions"
   ]
  },
  {
   "cell_type": "code",
   "execution_count": 5,
   "metadata": {
    "id": "aTwOzZ8HI8cJ"
   },
   "outputs": [],
   "source": [
    "# Define a sigmoid function\n",
    "def sigmoid(x):\n",
    "    return 1 / (1 + np.exp(-x))"
   ]
  },
  {
   "cell_type": "code",
   "execution_count": 6,
   "metadata": {
    "id": "q2lPEMweI-AJ"
   },
   "outputs": [],
   "source": [
    "# Define the gradient function\n",
    "def gradient(y, x, w):\n",
    "    hwx = sigmoid(np.matmul(x, w))\n",
    "    return -np.matmul(x.T, (y - hwx))"
   ]
  },
  {
   "cell_type": "code",
   "execution_count": 7,
   "metadata": {
    "id": "M_IfjoQZJAdQ"
   },
   "outputs": [],
   "source": [
    "# Define the logistic regression function\n",
    "def logistic_regression(train_x, train_y, test_x, test_y, alpha, num_epochs):\n",
    "    # Initialize weights\n",
    "    w = np.zeros(train_x.shape[1])\n",
    "    # Perform gradient descent\n",
    "    for epoch in range(num_epochs):\n",
    "        grad = gradient(train_y, train_x, w)\n",
    "        w -= alpha * grad\n",
    "    # Make predictions\n",
    "    predict = np.round(sigmoid(np.matmul(test_x.astype(float), w)))\n",
    "    # Calculate accuracy\n",
    "    acc = 100.0 * np.sum(test_y == predict) / test_y.shape[0]\n",
    "    return w, acc"
   ]
  },
  {
   "cell_type": "markdown",
   "metadata": {
    "id": "I1MKrh3vJG35"
   },
   "source": [
    "#### Testing the Script for Logistic Regression"
   ]
  },
  {
   "cell_type": "code",
   "execution_count": 8,
   "metadata": {
    "colab": {
     "base_uri": "https://localhost:8080/"
    },
    "id": "SBHCSBVPsuLJ",
    "outputId": "e51a9a02-5faa-464a-c49c-3170fa735f07"
   },
   "outputs": [
    {
     "name": "stderr",
     "output_type": "stream",
     "text": [
      "<ipython-input-5-70391257642b>:3: RuntimeWarning: overflow encountered in exp\n",
      "  return 1 / (1 + np.exp(-x))\n"
     ]
    },
    {
     "name": "stdout",
     "output_type": "stream",
     "text": [
      "Accuracy: 99.51%\n"
     ]
    }
   ],
   "source": [
    "# Set hyperparameters\n",
    "alpha = 0.001\n",
    "num_epochs = 1000\n",
    "\n",
    "# Train the logistic regression model\n",
    "w, acc = logistic_regression(train_x, train_y, test_x, test_y, alpha, num_epochs)\n",
    "\n",
    "print(\"Accuracy: {:.2f}%\".format(acc))"
   ]
  },
  {
   "cell_type": "markdown",
   "metadata": {
    "id": "6NfsMelo3Sb7"
   },
   "source": [
    "## H 2.2  (50 pts)\n",
    "\n",
    "Perceptron learning algorithm (PLA) and kernel extension: In this problem you will implement PLA to build a simple binary classification system. Suppose we have labeled data $(x_i, y_i)$ , where $x_i∈ R^{d+1}$ with $x_i(1) = 1$ and $y∈(−1, +1)$. Let us define $h_w(x_i) = sign (w^T x_i)$. We want to compute w using\n",
    "PLA."
   ]
  },
  {
   "cell_type": "markdown",
   "metadata": {
    "id": "gjlv0MRF3UXU"
   },
   "source": [
    "### (a) **Data Processing:** \n",
    "Generate two examples of 2D linearly separable dataset with N = 100 samples each. (To do this, you will first generate a weight vector and constant term, *w*, and then assign\n",
    "±1 labels to your data samples as $y_i = h_w(x_i)$.) Let us call the two datasets “Data1” and “Data2”. For Data1, randomly select 80% of the samples for training and the remaining 20% for testing on Data1 (80/20). For Data2, randomly select 30% of the samples for training and the remaining 70% for testing (30/70)."
   ]
  },
  {
   "cell_type": "markdown",
   "metadata": {
    "id": "gKbTpwtcN3MV"
   },
   "source": [
    "#### Preparing the Data for the Task"
   ]
  },
  {
   "cell_type": "code",
   "execution_count": 9,
   "metadata": {
    "id": "LoOnZvBi3Tus"
   },
   "outputs": [],
   "source": [
    "# Generate two linearly separable datasets with N = 100 samples each\n",
    "np.random.seed(0)\n",
    "w_true = np.random.rand(3)  # Generate a random weight vector\n",
    "w_true /= np.linalg.norm(w_true)  # Normalize the weight vector\n",
    "N = 100\n",
    "X1 = np.random.uniform(-1, 1, (N, 2))\n",
    "X1 = np.insert(X1, 0, 1, axis=1)  # Add a column of ones for the bias term\n",
    "y1 = np.sign(np.matmul(X1, w_true))\n",
    "X2 = np.random.uniform(-1, 1, (N, 2))\n",
    "X2 = np.insert(X2, 0, 1, axis=1)\n",
    "y2 = np.sign(np.matmul(X2, w_true))\n",
    "\n",
    "# Randomly split Data1 into training and testing sets (80/20 split)\n",
    "train_pct = 0.8\n",
    "num_train = int(train_pct * N)\n",
    "idx = list(range(N))\n",
    "random.shuffle(idx)\n",
    "train_idx = idx[:num_train]\n",
    "test_idx = idx[num_train:]\n",
    "train_x1 = X1[train_idx]\n",
    "train_y1 = y1[train_idx]\n",
    "test_x1 = X1[test_idx]\n",
    "test_y1 = y1[test_idx]\n",
    "\n",
    "# Randomly split Data2 into training and testing sets (30/70 split)\n",
    "train_pct = 0.3\n",
    "num_train = int(train_pct * N)\n",
    "idx = list(range(N))\n",
    "random.shuffle(idx)\n",
    "train_idx = idx[:num_train]\n",
    "test_idx = idx[num_train:]\n",
    "train_x2 = X2[train_idx]\n",
    "train_y2 = y2[train_idx]\n",
    "test_x2 = X2[test_idx]\n",
    "test_y2 = y2[test_idx]\n"
   ]
  },
  {
   "cell_type": "markdown",
   "metadata": {
    "id": "KDy9P94_Oa3D"
   },
   "source": [
    "#### Helper Functions"
   ]
  },
  {
   "cell_type": "code",
   "execution_count": 10,
   "metadata": {
    "id": "s8NQ8aJVOfss"
   },
   "outputs": [],
   "source": [
    "def accuracy(X, y, w):\n",
    "    return np.mean(np.sign(np.matmul(X, w)) == y)"
   ]
  },
  {
   "cell_type": "markdown",
   "metadata": {
    "id": "UeKyBiF2OF8u"
   },
   "source": [
    "#### Main PERCEPTRON LEARNING ALGORITHM function"
   ]
  },
  {
   "cell_type": "code",
   "execution_count": 11,
   "metadata": {
    "id": "D0vNDlo5gqNK"
   },
   "outputs": [],
   "source": [
    "def pla_prev(X, y, X_val=None, y_val=None):\n",
    "    w = np.zeros(X.shape[1])\n",
    "    num_mistakes = 1\n",
    "    prev_acc = 0\n",
    "    while num_mistakes > 0:\n",
    "        num_mistakes = 0\n",
    "        for i in range(X.shape[0]):\n",
    "            if np.sign(np.dot(X[i], w)) != y[i]:\n",
    "                w += y[i] * X[i]\n",
    "                num_mistakes += 1\n",
    "        if X_val is not None and y_val is not None:\n",
    "            cur_acc = accuracy(X_val, y_val, w)\n",
    "            if cur_acc <= prev_acc:\n",
    "                break\n",
    "            else:\n",
    "                prev_acc = cur_acc\n",
    "    return w"
   ]
  },
  {
   "cell_type": "markdown",
   "metadata": {
    "id": "vgcN5-_2OLty"
   },
   "source": [
    "#### Training and Testing the PLA on Data 1"
   ]
  },
  {
   "cell_type": "code",
   "execution_count": 12,
   "metadata": {
    "colab": {
     "base_uri": "https://localhost:8080/"
    },
    "id": "TZpg0c8eOOV5",
    "outputId": "26773f34-3fc6-4238-f72f-42c6e5cf393b"
   },
   "outputs": [
    {
     "name": "stdout",
     "output_type": "stream",
     "text": [
      "Data1: Training accuracy = 0.97, Testing accuracy = 1.00\n"
     ]
    }
   ],
   "source": [
    "# Train PLA on Data1\n",
    "w1 = pla_prev(train_x1, train_y1, X_val=test_x1, y_val=test_y1)\n",
    "train_acc1 = accuracy(train_x1, train_y1, w1)\n",
    "test_acc1 = accuracy(test_x1, test_y1, w1)\n",
    "print(f\"Data1: Training accuracy = {train_acc1:.2f}, Testing accuracy = {test_acc1:.2f}\")"
   ]
  },
  {
   "cell_type": "markdown",
   "metadata": {
    "id": "Ac6J3qscOSF3"
   },
   "source": [
    "#### Training and Testing the PLA on Data 2"
   ]
  },
  {
   "cell_type": "code",
   "execution_count": 13,
   "metadata": {
    "colab": {
     "base_uri": "https://localhost:8080/"
    },
    "id": "w2wY1bWAOU6z",
    "outputId": "464191a3-09ac-43c1-ce95-b8346ba212c7"
   },
   "outputs": [
    {
     "name": "stdout",
     "output_type": "stream",
     "text": [
      "Data2: Training accuracy = 1.00, Testing accuracy = 0.90\n"
     ]
    }
   ],
   "source": [
    "# Train PLA on Data2\n",
    "w2 = pla_prev(train_x2, train_y2, X_val=test_x2, y_val=test_y2)\n",
    "train_acc2 = accuracy(train_x2, train_y2, w2)\n",
    "test_acc2 = accuracy(test_x2, test_y2, w2)\n",
    "print(f\"Data2: Training accuracy = {train_acc2:.2f}, Testing accuracy = {test_acc2:.2f}\")"
   ]
  },
  {
   "cell_type": "markdown",
   "metadata": {
    "id": "KNkOfiPN6JbX"
   },
   "source": [
    "### (b) **Implementation:** \n",
    "Write a script for PLA in Python by initializing w = 0 and using the followingupdate rule:\n",
    "\n",
    "> for i = 1,......., N\n",
    "$$ w = w + \\frac{1}{2}(y_i-h_w(x_i))x_i$$\n",
    "\n"
   ]
  },
  {
   "cell_type": "code",
   "execution_count": 14,
   "metadata": {
    "id": "6M8mxru45ztb"
   },
   "outputs": [],
   "source": [
    "def pla(X, y):\n",
    "    w = np.zeros(X.shape[1])\n",
    "    num_mistakes = 1\n",
    "    while num_mistakes > 0:\n",
    "        num_mistakes = 0\n",
    "        for i in range(X.shape[0]):\n",
    "            if np.sign(np.dot(X[i], w)) != y[i]:\n",
    "                w += 0.5 * (y[i] - np.sign(np.dot(X[i], w))) * X[i]\n",
    "                num_mistakes += 1\n",
    "    return w"
   ]
  },
  {
   "cell_type": "markdown",
   "metadata": {
    "id": "5ThQAHNV6e1e"
   },
   "source": [
    "### (c) **Training:**\n",
    "Use your PLA implementation to train two linear classifiers for Data1 and Data2using the respective training samples. Plot the training samples, test samples, and separation lines for both examples in two separate plots."
   ]
  },
  {
   "cell_type": "markdown",
   "metadata": {
    "id": "WGkwJJmzQQQP"
   },
   "source": [
    "#### Training PLA, Computing Decision Boundary and Getting the Plot for **DATA 1**"
   ]
  },
  {
   "cell_type": "code",
   "execution_count": 15,
   "metadata": {
    "colab": {
     "base_uri": "https://localhost:8080/",
     "height": 469
    },
    "id": "_wpCzXfe6KrY",
    "outputId": "0d50f454-a682-4470-b33b-590e958f0061"
   },
   "outputs": [
    {
     "data": {
      "text/plain": [
       "Text(0.5, 1.0, 'Data1')"
      ]
     },
     "execution_count": 15,
     "metadata": {},
     "output_type": "execute_result"
    },
    {
     "data": {
      "image/png": "[encoded data removed]",
      "text/plain": [
       "<Figure size 640x480 with 1 Axes>"
      ]
     },
     "metadata": {},
     "output_type": "display_data"
    }
   ],
   "source": [
    "# Train PLA on Data1\n",
    "w1 = pla(train_x1, train_y1)\n",
    "\n",
    "# Compute the decision boundary for Data1\n",
    "x1_plot = np.array([-1, 1])\n",
    "y1_plot = -(w1[1] * x1_plot + w1[0]) / w1[2]\n",
    "\n",
    "# Plot the training samples, test samples, and decision boundary for Data1\n",
    "plt.figure()\n",
    "plt.plot(train_x1[:,1][train_y1==1], train_x1[:,2][train_y1==1], 'ro')\n",
    "plt.plot(train_x1[:,1][train_y1==-1], train_x1[:,2][train_y1==-1], 'bx')\n",
    "plt.plot(test_x1[:,1][test_y1==1], test_x1[:,2][test_y1==1], 'ro', alpha=0.3)\n",
    "plt.plot(test_x1[:,1][test_y1==-1], test_x1[:,2][test_y1==-1], 'bx', alpha=0.3)\n",
    "plt.plot(x1_plot, y1_plot, 'g--')\n",
    "plt.title('Data1')"
   ]
  },
  {
   "cell_type": "markdown",
   "metadata": {
    "id": "kGD2q2J8QX9O"
   },
   "source": [
    "#### Training PLA, Computing Decision Boundary and Getting the Plot for **DATA 2**"
   ]
  },
  {
   "cell_type": "code",
   "execution_count": 16,
   "metadata": {
    "colab": {
     "base_uri": "https://localhost:8080/",
     "height": 452
    },
    "id": "ilbrKvsZQZW7",
    "outputId": "5a0f3f0a-7076-448d-e78d-5145fe6591f8"
   },
   "outputs": [
    {
     "data": {
      "image/png": "[encoded data removed]",
      "text/plain": [
       "<Figure size 640x480 with 1 Axes>"
      ]
     },
     "metadata": {},
     "output_type": "display_data"
    }
   ],
   "source": [
    "# Train PLA on Data2\n",
    "w2 = pla(train_x2, train_y2)\n",
    "\n",
    "# Compute the decision boundary for Data2\n",
    "x2_plot = np.array([-1, 1])\n",
    "y2_plot = -(w2[1] * x2_plot + w2[0]) / w2[2]\n",
    "\n",
    "# Plot the training samples, test samples, and decision boundary for Data2\n",
    "plt.figure()\n",
    "plt.plot(train_x2[:,1][train_y2==1], train_x2[:,2][train_y2==1], 'ro')\n",
    "plt.plot(train_x2[:,1][train_y2==-1], train_x2[:,2][train_y2==-1], 'bx')\n",
    "plt.plot(test_x2[:,1][test_y2==1], test_x2[:,2][test_y2==1], 'ro', alpha=0.3)\n",
    "plt.plot(test_x2[:,1][test_y2==-1], test_x2[:,2][test_y2==-1], 'bx', alpha=0.3)\n",
    "plt.plot(x2_plot, y2_plot, 'g--')\n",
    "plt.title('Data2')\n",
    "\n",
    "plt.show()"
   ]
  },
  {
   "cell_type": "markdown",
   "metadata": {
    "id": "qaPb2Y4L6zN4"
   },
   "source": [
    "### (d) **Testing:**\n",
    "Using the test samples in each example, compute precision, recall, and f1-score for your classifiers.\n",
    "\n",
    "Precision is defined as $\\frac{tp}{tp+fp}$; *tp* and *fp* denote the number of true and false positives.\n",
    "\n",
    "Recall is defined as $\\frac{tp}{tp + fn}$; *fn* denotes the number of false negatives.\n",
    "\n",
    "f1-score is defined as $2\\frac{precision X recall}{precision + recall}$; it can be viewed as a measure of accuracy and ranges\n",
    "between 0 (worst) and 1 (best)."
   ]
  },
  {
   "cell_type": "markdown",
   "metadata": {
    "id": "H8mg1rr7RQm_"
   },
   "source": [
    "#### Computations for **DATA 1**"
   ]
  },
  {
   "cell_type": "code",
   "execution_count": 17,
   "metadata": {
    "colab": {
     "base_uri": "https://localhost:8080/"
    },
    "id": "_wsTCHiz6m6l",
    "outputId": "6159827b-f6d4-4179-a47c-fdf21919d6d2"
   },
   "outputs": [
    {
     "name": "stdout",
     "output_type": "stream",
     "text": [
      "Data1: Precision = 1.00, Recall = 1.00, F1-score = 1.00\n"
     ]
    }
   ],
   "source": [
    "# Compute predictions for Data1\n",
    "y_pred1 = np.sign(np.dot(test_x1, w1))\n",
    "\n",
    "# Compute TP, FP, FN, and TN for Data1\n",
    "TP1 = np.sum((y_pred1 == 1) & (test_y1 == 1))\n",
    "FP1 = np.sum((y_pred1 == 1) & (test_y1 == -1))\n",
    "FN1 = np.sum((y_pred1 == -1) & (test_y1 == 1))\n",
    "TN1 = np.sum((y_pred1 == -1) & (test_y1 == -1))\n",
    "\n",
    "# Compute precision, recall, and F1-score for Data1\n",
    "precision1 = TP1 / (TP1 + FP1)\n",
    "recall1 = TP1 / (TP1 + FN1)\n",
    "f1_score1 = 2 * (precision1 * recall1) / (precision1 + recall1)\n",
    "print(\"Data1: Precision = {:.2f}, Recall = {:.2f}, F1-score = {:.2f}\".format(precision1, recall1, f1_score1))"
   ]
  },
  {
   "cell_type": "markdown",
   "metadata": {
    "id": "Thf3eTO5RVMq"
   },
   "source": [
    "#### Computations for **DATA 2**"
   ]
  },
  {
   "cell_type": "code",
   "execution_count": 18,
   "metadata": {
    "colab": {
     "base_uri": "https://localhost:8080/"
    },
    "id": "H_GFRIzsRWUh",
    "outputId": "0a2f24ae-4e99-495d-82be-b9fb63f3cc33"
   },
   "outputs": [
    {
     "name": "stdout",
     "output_type": "stream",
     "text": [
      "Data2: Precision = 0.85, Recall = 1.00, F1-score = 0.92\n"
     ]
    }
   ],
   "source": [
    "# Compute predictions for Data2\n",
    "y_pred2 = np.sign(np.dot(test_x2, w2))\n",
    "\n",
    "# Compute TP, FP, FN, and TN for Data2\n",
    "TP2 = np.sum((y_pred2 == 1) & (test_y2 == 1))\n",
    "FP2 = np.sum((y_pred2 == 1) & (test_y2 == -1))\n",
    "FN2 = np.sum((y_pred2 == -1) & (test_y2 == 1))\n",
    "TN2 = np.sum((y_pred2 == -1) & (test_y2 == -1))\n",
    "\n",
    "# Compute precision, recall, and F1-score for Data2\n",
    "precision2 = TP2 / (TP2 + FP2)\n",
    "recall2 = TP2 / (TP2 + FN2)\n",
    "f1_score2 = 2 * (precision2 * recall2) / (precision2 + recall2)\n",
    "print(\"Data2: Precision = {:.2f}, Recall = {:.2f}, F1-score = {:.2f}\".format(precision2, recall2, f1_score2))"
   ]
  },
  {
   "cell_type": "markdown",
   "metadata": {
    "id": "OD1FjLRn7SGe"
   },
   "source": [
    "### (e) **Kernel Perceptron:**\n",
    "Note that we can define the weight vector as $w = ∑_{i=1}^Nα_iy_ix_i$. We can view this as the dual perceptron in which we initialize $α_i$ = 0 for i = 1, . . . ,N and update them as\n",
    "follows.\n",
    "\n",
    "for j=1,...,N\n",
    "\n",
    "$$ŷ = sign(∑_{i=1}^Nα_iy_ix_i^Tx_j)$$\n",
    "\n",
    "If $ŷ \\neq y_j$, update $α_j = α_j +1$\n",
    "\n",
    "Implement the kernel perceptron and demonstrate that the classifier you learn is identical to\n",
    "the one in step (b)."
   ]
  },
  {
   "cell_type": "code",
   "execution_count": 19,
   "metadata": {
    "colab": {
     "base_uri": "https://localhost:8080/"
    },
    "id": "tCoSYi_67TVm",
    "outputId": "82b4289b-86d5-458e-953a-2541cdbf0994"
   },
   "outputs": [
    {
     "name": "stdout",
     "output_type": "stream",
     "text": [
      "********************  Weight vector from step 4  ********************\n",
      "[ 6.25490544e-01  0.00000000e+00  0.00000000e+00  0.00000000e+00\n",
      "  0.00000000e+00  0.00000000e+00  0.00000000e+00  0.00000000e+00\n",
      "  0.00000000e+00  0.00000000e+00  0.00000000e+00  0.00000000e+00\n",
      "  0.00000000e+00  0.00000000e+00  0.00000000e+00  0.00000000e+00\n",
      "  0.00000000e+00  0.00000000e+00  0.00000000e+00  0.00000000e+00\n",
      "  0.00000000e+00  0.00000000e+00  0.00000000e+00  0.00000000e+00\n",
      "  0.00000000e+00  0.00000000e+00  0.00000000e+00  0.00000000e+00\n",
      "  0.00000000e+00  0.00000000e+00  0.00000000e+00  0.00000000e+00\n",
      "  0.00000000e+00  0.00000000e+00  0.00000000e+00  0.00000000e+00\n",
      "  0.00000000e+00  0.00000000e+00  0.00000000e+00  0.00000000e+00\n",
      "  0.00000000e+00  0.00000000e+00  0.00000000e+00  9.55800000e+00\n",
      "  2.29430000e+01  2.98750000e+00  0.00000000e+00  0.00000000e+00\n",
      "  0.00000000e+00  0.00000000e+00  0.00000000e+00  0.00000000e+00\n",
      "  0.00000000e+00  0.00000000e+00  0.00000000e+00  0.00000000e+00\n",
      "  0.00000000e+00  0.00000000e+00  0.00000000e+00  0.00000000e+00\n",
      "  0.00000000e+00  0.00000000e+00  0.00000000e+00  0.00000000e+00\n",
      "  0.00000000e+00  0.00000000e+00 -7.05000000e-02 -6.13935000e+01\n",
      " -1.28409000e+02 -2.45020000e+01  2.35628000e+02  1.73263000e+02\n",
      "  2.69936000e+02  2.05412500e+02  2.38014500e+02  5.69435000e+01\n",
      "  1.02450000e+00  2.56500000e-01  0.00000000e+00  0.00000000e+00\n",
      "  0.00000000e+00  0.00000000e+00  0.00000000e+00  0.00000000e+00\n",
      "  0.00000000e+00  0.00000000e+00  0.00000000e+00  6.30000000e-02\n",
      "  1.50000000e-02 -4.55000000e-02 -1.11260000e+01 -1.76280000e+01\n",
      " -6.67379848e+01 -2.06696722e+02 -1.65660382e+02 -3.11386229e+02\n",
      " -7.61760674e+02 -7.66703675e+02 -1.85686613e+02 -2.13567621e+02\n",
      " -5.07331610e+02 -1.12455721e+02 -4.70920763e+02 -7.27892305e+02\n",
      " -3.03439708e+02 -3.03954500e+02 -1.31402000e+02 -2.67930000e+01\n",
      "  1.86500000e-01 -1.20000000e-01  0.00000000e+00  0.00000000e+00\n",
      "  0.00000000e+00  0.00000000e+00 -5.70000000e-02  1.39500000e-01\n",
      " -5.00500000e-01  3.33500000e+00  1.06344977e+01 -1.12384508e+02\n",
      " -2.20185058e+02 -2.14458363e+02 -1.42108365e+02 -3.67061937e+02\n",
      " -6.84753346e+02 -5.51158316e+02 -3.90781953e+02 -2.15901742e+02\n",
      " -1.20482724e+02 -1.65887207e+02 -1.02166886e+02 -5.44663763e+02\n",
      " -3.06373055e+02 -5.36855000e+01  1.40420000e+01  1.17216500e+02\n",
      "  1.80496000e+02  3.44270000e+01  0.00000000e+00  0.00000000e+00\n",
      "  0.00000000e+00  0.00000000e+00 -3.60000000e-02 -7.50000000e-03\n",
      " -7.72590000e+01 -8.44935000e+01  2.30777491e+02  5.90898457e+00\n",
      " -2.17685082e+02  4.31174274e+01  8.46783090e+01 -2.84347784e+02\n",
      " -6.78102352e+02 -2.11539587e+02 -1.45971877e+02  3.43496545e+01\n",
      " -5.95062327e+01 -5.70511937e+02  6.85580560e+01 -3.09774160e+02\n",
      "  1.06504151e+02  4.31943730e+02  3.05794213e+02  4.86029154e+02\n",
      "  5.74899000e+02  1.42254000e+02  1.95500000e-01  1.32500000e-01\n",
      "  0.00000000e+00  0.00000000e+00 -2.35000000e-02 -7.20155000e+01\n",
      " -2.76009500e+02 -3.06822500e+02 -3.09431195e+02 -4.05787276e+02\n",
      " -3.43101122e+02 -4.24174666e+02 -7.93775105e+02 -4.41721005e+02\n",
      " -2.02950832e+02 -2.32350984e+02 -5.30037601e+02 -1.68511115e+02\n",
      "  1.03200624e+02 -4.36720417e+02  9.43567135e+01 -2.39065123e+02\n",
      " -1.84944169e+02  4.54305180e+02  1.70437143e+02  7.53930890e+01\n",
      "  4.08084048e+02  2.47815500e+02  2.25000000e-02  0.00000000e+00\n",
      "  0.00000000e+00  0.00000000e+00 -9.04500000e-01 -3.92205000e+01\n",
      " -1.78302000e+02 -2.08042500e+02 -4.36602246e+02 -6.24319071e+02\n",
      " -4.47568716e+02 -6.86628165e+02 -4.39878653e+02  2.31039564e+01\n",
      " -1.30235585e+02 -2.95330188e+02 -6.42250180e+02 -1.07077513e+02\n",
      " -2.57594642e+02 -2.27383515e+02  1.18163137e+02 -2.45488189e+02\n",
      " -2.26036332e+01  3.49330149e+02 -9.14085949e+00  2.71652173e+02\n",
      "  4.80102567e+02  1.20452500e+02  4.75000000e-02  4.95000000e-02\n",
      "  0.00000000e+00  0.00000000e+00 -3.62500000e-01 -1.35800000e+00\n",
      " -4.43005000e+01  7.52400000e+00 -4.60600000e+01 -6.25430000e+01\n",
      "  9.26390000e+01 -5.04430000e+01 -3.07933000e+02 -2.20001018e+02\n",
      "  1.10985181e+02 -1.54469109e+02  1.25352823e+02  4.18918705e+02\n",
      " -1.21369656e+01 -4.71025174e+02  2.21706089e+02 -6.34659719e+01\n",
      " -1.93480407e+02 -3.84447560e+02 -2.80871917e+02  3.84995679e+02\n",
      "  3.47334559e+02  5.92980000e+01  0.00000000e+00  0.00000000e+00\n",
      "  0.00000000e+00  0.00000000e+00 -1.14000000e-01 -2.18600000e+00\n",
      " -6.29930000e+01 -6.72340000e+01 -3.56339500e+02 -1.22323000e+02\n",
      "  4.62165000e+01  8.59705000e+01 -5.86330000e+01 -3.20999504e+02\n",
      " -8.06732869e+00  1.08842226e+02  3.28907579e+02  1.78948263e+02\n",
      "  1.30412361e+02 -3.89020022e+02 -1.09301658e+02 -2.15231133e+02\n",
      " -4.94307071e+02 -6.40980936e+02 -2.64218694e+02 -1.26739738e+01\n",
      " -1.22165000e+01  2.19610000e+01  6.95000000e-02  1.57500000e-01\n",
      "  0.00000000e+00  0.00000000e+00  1.75000000e-01 -1.33750000e+00\n",
      " -3.60161500e+02 -2.50877500e+02 -4.92714000e+02 -2.53703500e+02\n",
      " -2.00230500e+02 -1.55715001e+01 -2.86000791e-01 -8.48658478e+01\n",
      "  1.13679241e+02  2.43274414e+02  3.65307003e+02  3.76448404e+02\n",
      "  1.07146671e+02 -3.48804954e+02 -1.00997329e+02 -5.55655153e+02\n",
      " -4.01155626e+02 -3.82384569e+02 -3.51848986e+02 -2.23756000e+02\n",
      " -1.08417500e+02 -6.64050000e+00  6.01500000e+00  4.32500000e-01\n",
      "  9.50000000e-02  0.00000000e+00  3.95000000e-02 -9.68500000e-01\n",
      " -2.78126000e+02 -2.03976500e+02 -2.22555000e+02 -2.04177000e+02\n",
      " -2.75866500e+02 -2.89347549e+02 -2.21194733e+02 -7.94236752e+01\n",
      "  3.25929278e+02  3.62078026e+02  2.04396031e+02  5.40005007e+01\n",
      " -8.29493102e+01 -9.62218922e+01 -3.92858043e+02 -6.96468489e+02\n",
      " -4.16624060e+02 -1.73266267e+02 -3.02046156e+02 -1.19908020e+02\n",
      "  2.22750000e+00  3.03500000e-01  8.80200000e+00  3.85000000e-01\n",
      "  2.27500000e-01  0.00000000e+00 -1.95000000e-02 -1.08500000e-01\n",
      " -5.25115000e+01  1.08605000e+02 -1.29485000e+02 -7.57720001e+01\n",
      " -1.43847011e+02 -1.89629359e+02 -3.34769669e+02 -1.09445169e+02\n",
      " -1.11861670e+02 -4.41753261e+02  1.80292114e+02  1.70965668e+01\n",
      "  3.56667996e+02 -7.11183281e+01 -3.08529482e+02 -1.23652325e+02\n",
      " -3.63724625e+02 -4.94063797e+01 -9.41166736e+01 -8.89007924e+00\n",
      "  1.05270000e+01 -2.23000000e-01 -1.12000000e-01  4.50000000e-02\n",
      "  2.75000000e-01  4.80000000e-02  0.00000000e+00 -2.45000000e-02\n",
      " -1.41400000e+00  1.37599500e+02 -3.30280000e+01  7.06849999e+01\n",
      " -5.59885160e+01 -1.03102407e+02 -1.23427716e+02 -3.00802164e+02\n",
      " -4.67318787e+01 -4.51307940e+02 -1.74037415e+01 -1.00810545e+02\n",
      "  2.41296756e+02  2.89405388e+02  1.56340925e+02 -3.20003646e+02\n",
      " -4.77903934e+02 -2.88926718e+02 -1.80031501e+02 -3.97125000e+01\n",
      " -1.28960000e+01 -1.11400000e+00  7.70000000e-02  3.50000000e-02\n",
      "  0.00000000e+00  0.00000000e+00 -2.40000000e-01 -2.62500000e-01\n",
      " -1.12950000e+00  7.80550000e+01  2.67545000e+01 -1.42745000e+01\n",
      " -2.20811053e+02 -7.59077038e+01  1.04086495e+02 -3.98509812e+02\n",
      " -1.87529064e+02  6.18543930e+00  9.30839193e+01  3.62634729e+01\n",
      "  6.20895356e+02  1.69436060e+02 -1.25643394e+02 -5.42255794e+02\n",
      " -6.05713512e+02 -5.25126219e+02 -5.74387508e+02 -1.95055000e+02\n",
      " -4.09905000e+01 -4.07700000e+00  1.32000000e-01  1.12500000e-01\n",
      "  0.00000000e+00  0.00000000e+00 -3.39000000e-01 -1.94550000e+00\n",
      " -5.12600000e+00 -1.73085000e+01 -5.04159971e+01 -6.94969863e+01\n",
      " -2.51750665e+01  1.86411910e+02  1.85472516e+02 -2.22318471e+02\n",
      "  1.92133549e+02 -1.90688269e+01  1.32487975e+02  3.08588893e+02\n",
      "  6.70534861e+02 -6.21442280e+01 -5.00894640e+02 -7.30660720e+02\n",
      " -9.83321314e+02 -7.95678576e+02 -6.64961515e+02 -2.87812003e+02\n",
      " -6.78750000e+01  1.27090000e+01  8.70000000e-02 -1.42500000e-01\n",
      "  0.00000000e+00  0.00000000e+00 -2.01000000e-01 -6.27550000e+00\n",
      " -1.94995000e+01 -6.37860000e+01 -1.49264536e+01 -3.47869324e+01\n",
      " -1.96902932e+02 -9.68034520e+00  5.61154130e+01  3.05806160e+02\n",
      " -1.69157713e+02  5.63214786e+01  2.05619046e+02  3.93607663e+02\n",
      "  4.80865298e+02  8.36861316e+01 -8.69119535e+02 -8.29337884e+02\n",
      " -7.58072081e+02 -6.85404560e+02 -4.76661015e+02 -1.37430510e+02\n",
      "  1.09627000e+02  3.70622500e+02  6.92510000e+01  3.66500000e-01\n",
      "  0.00000000e+00  0.00000000e+00 -5.15000000e-02 -1.00785000e+01\n",
      " -4.89400000e+01 -1.21774000e+02 -1.31545456e+02 -2.25895446e+02\n",
      " -3.12446572e+02 -3.22338547e+01  3.25758629e+01  2.12788871e+02\n",
      "  3.92449620e+02  4.81753429e+02  1.60932473e+02  5.28321830e+02\n",
      "  3.66781379e+02 -3.75111977e+02 -8.03568359e+02 -4.41470095e+02\n",
      " -4.84731602e+02 -3.91821227e+02 -2.67799406e+02  6.14834856e+01\n",
      "  2.67837000e+02  3.62199000e+02  2.39547000e+02  5.65500000e-01\n",
      "  1.20000000e-02  4.50000000e-03 -3.42500000e-01 -1.80130000e+01\n",
      " -9.69525000e+01 -2.18985000e+02 -4.78975000e+02 -6.43229500e+02\n",
      " -1.29114197e+02  3.66314681e+02  4.98369711e+02  5.42624601e+02\n",
      "  1.83587372e+02  1.51048877e+02 -8.02089831e+01  4.42821132e+02\n",
      " -8.86434299e+01 -7.21635690e+02 -2.13544066e+02 -3.19783614e+02\n",
      " -3.15411751e+02 -2.55696516e+01 -3.63640075e+02 -6.38625154e+01\n",
      "  2.10521500e+02  5.08029000e+02  2.89627500e+02  7.33000000e-01\n",
      "  6.97500000e-01  2.25000000e-02 -4.75500000e-01 -2.65555000e+01\n",
      " -1.85093000e+02 -5.19164000e+02 -1.09673750e+03 -7.65585977e+02\n",
      " -1.28183651e+02 -1.93672998e+02  2.79870220e+02  4.62148282e+02\n",
      "  2.45627919e+02  4.65761869e+02  4.29651376e+02  4.32403104e+01\n",
      " -1.05075249e+02  2.24078962e+02  1.72872319e+02 -1.70274956e+02\n",
      " -1.75790148e+02  2.43159238e+02 -3.44760663e+02 -1.82421046e+02\n",
      "  2.43810000e+02  4.05413500e+02  2.11981500e+02  5.86500000e-01\n",
      "  3.85500000e-01  0.00000000e+00 -1.22400000e+00 -6.97350000e+01\n",
      " -2.82975500e+02 -6.94199021e+02 -8.92614726e+02 -3.48440271e+02\n",
      " -2.34218782e+02 -3.35019551e+02 -1.28607761e+02  3.12447972e+02\n",
      "  2.84620517e+02  3.97917177e+02 -1.16936815e+01 -1.11515730e+02\n",
      "  4.71519314e+02  6.03205762e+02  9.29351139e+02  8.03717851e+02\n",
      "  1.60459186e+02  2.54599614e+02  7.81815283e+01  3.77206620e+02\n",
      "  5.91734000e+02  3.70952000e+02  9.66780000e+01  4.02000000e-01\n",
      "  7.65000000e-02  4.80000000e-02 -9.06500000e-01 -1.17985500e+02\n",
      " -1.74619500e+02 -1.07206666e+02  5.87073029e+01  2.22749907e+02\n",
      "  3.78661888e+02  1.88205513e+02  2.57157262e+02 -6.85510782e+01\n",
      " -2.77994206e+00  1.00820271e+01  2.82115685e+02  3.14862218e+02\n",
      "  1.90711810e+02  2.71055896e+02  6.50680024e+02  6.32770357e+02\n",
      "  3.85498510e+02  6.65319934e+02  7.06619768e+02  3.61575985e+02\n",
      "  5.06854000e+02  4.21611500e+02  1.24117500e+02  4.72500000e-01\n",
      "  0.00000000e+00  4.65000000e-02 -5.85000000e-02 -1.08803000e+02\n",
      " -1.54527024e+02  8.26819530e+01  4.24735597e+02  2.76372292e+02\n",
      " -3.97605063e+01  4.62472238e-01  3.00707248e+02 -5.80882804e+01\n",
      " -3.71245404e+02 -2.85274573e+02  7.59933540e+01 -2.01345410e+02\n",
      " -5.14696158e+02  1.93876890e+01  3.62653565e+02  2.33563113e+02\n",
      "  4.36798044e+02  8.31626823e+02  5.35379985e+02  1.78681485e+02\n",
      "  2.07814000e+02  8.77800000e+01  5.78865000e+01  6.17500000e-01\n",
      "  0.00000000e+00  0.00000000e+00 -3.60000000e-02 -6.27050000e+00\n",
      " -1.64208947e+02 -1.82350641e+02 -2.32027312e+02 -6.01812775e+01\n",
      " -5.70127954e+01 -1.07065345e+02  2.67092796e+02 -3.49953449e+01\n",
      " -3.61515281e+02  1.19151946e+02  1.91400869e+02 -9.01006202e+01\n",
      "  2.46646614e+02  1.34751947e+02 -2.29984739e+02 -4.77820251e+02\n",
      "  1.77794483e+01  2.71732362e+01  1.49611490e+02  5.14494957e+01\n",
      "  2.91479999e+01  2.49500000e-01  8.49000000e-01  5.41500000e-01\n",
      "  0.00000000e+00  0.00000000e+00  0.00000000e+00 -1.28400000e+00\n",
      " -1.10267556e+02 -1.71290015e+02 -7.60817526e+01 -3.35702276e+02\n",
      " -3.71901305e+02 -2.55209305e+02 -1.96793057e+02 -2.96104016e+02\n",
      " -3.55650069e+02 -1.37734733e+02 -2.58246694e+02 -5.51191696e+02\n",
      " -3.52743774e+02 -1.01470858e+03 -8.45489421e+02 -3.40918243e+02\n",
      " -2.69971539e+02 -1.15610479e+02  1.01764500e+02 -2.23950000e+00\n",
      " -2.06500000e-01  0.00000000e+00  2.60000000e-01  4.50000000e-02\n",
      "  0.00000000e+00  0.00000000e+00  0.00000000e+00 -8.70000000e-02\n",
      " -3.28000000e-01 -7.64300000e+00 -6.39670000e+01 -1.65378508e+02\n",
      " -3.13167016e+02 -3.43548516e+02 -4.22443510e+02 -4.38298510e+02\n",
      " -3.04859503e+02 -1.18110152e+02 -2.37268653e+02 -3.44439207e+02\n",
      " -7.06587082e+02 -8.65719621e+02 -8.66734007e+02 -6.60263772e+02\n",
      " -5.65903193e+02 -2.13706748e+02 -9.64225000e+01 -4.76595000e+01\n",
      "  0.00000000e+00  0.00000000e+00  0.00000000e+00  0.00000000e+00\n",
      "  0.00000000e+00  0.00000000e+00  0.00000000e+00  0.00000000e+00\n",
      "  0.00000000e+00 -4.00000000e-02 -2.51000000e-01 -5.22000000e-01\n",
      " -9.02930000e+01 -1.40645000e+02 -2.25000000e+00 -7.31235000e+01\n",
      " -8.28355000e+01 -1.27876500e+02 -1.04768000e+02 -3.31590000e+01\n",
      " -1.87571000e+02 -2.13600000e+02 -1.19535500e+02 -5.33995000e+01\n",
      " -4.59285000e+01 -7.27735000e+01 -7.21135000e+01 -1.28025000e+01\n",
      "  0.00000000e+00  0.00000000e+00  0.00000000e+00  0.00000000e+00\n",
      "  0.00000000e+00  0.00000000e+00  0.00000000e+00  0.00000000e+00\n",
      "  0.00000000e+00  0.00000000e+00  0.00000000e+00  0.00000000e+00\n",
      "  0.00000000e+00 -7.16705000e+01 -1.19163000e+02 -5.87180000e+01\n",
      "  0.00000000e+00 -1.19163000e+02  0.00000000e+00  0.00000000e+00\n",
      "  0.00000000e+00  0.00000000e+00  0.00000000e+00  0.00000000e+00\n",
      "  0.00000000e+00  0.00000000e+00  0.00000000e+00  0.00000000e+00\n",
      "  0.00000000e+00  0.00000000e+00  0.00000000e+00  0.00000000e+00\n",
      "  0.00000000e+00]\n",
      "\n",
      "****************************************************************************************************\n",
      "\n",
      "******************** Weight vector from kernel perceptron  ********************\n",
      "[  1.   0.   0.   0.   0.   0.   0.   0.   0.   0.   0.   0.   0.   0.\n",
      "   0.   0.   0.   0.   0.   0.   0.   0.   0.   0.   0.   0.   0.   0.\n",
      "   0.   0.   0.   0.   0.   0.   0.   0.   0.   0.   0.   0.   0.   0.\n",
      "   0.   0.   0.   0.   0.   0.   0.   0.   0.   0.   0.   0.   0.   0.\n",
      "   0.   0.   0.   0.   0.   0.   0.   0.   0.   0.   0.   0.   0.   0.\n",
      "   0.   0.   0.   0.   0.   0.   0.   0.   0.   0.   0.   0.   0.   0.\n",
      "   0.   0.   0.   0.   0.   0.   0.   0.   0.   0.   0.   0.   0.   0.\n",
      "   0.   0.   0.   0.   0.   0.   0.   0.   0.   0.   0.   0.   0.   0.\n",
      "   0.   0.   0.   0.   0.   0.   0.   0.   0.   0.   0.   0.   0.   0.\n",
      "   0.   0.   0.   0.   0.   0.   0.   0.   0.   0.   0.   0.   0.   0.\n",
      "   0.   0.   0.   0.   0.   0.   0.   0.   0.   0.   0.   0.   0.   0.\n",
      "   0.   0.   0.   0.   0. 124. 253. 255.  63.   0.   0.   0.   0.   0.\n",
      "   0.   0.   0.   0.   0.   0.   0.   0.   0.   0.   0.   0.   0.   0.\n",
      "   0.   0.   0.   0.  96. 244. 251. 253.  62.   0.   0.   0.   0.   0.\n",
      "   0.   0.   0.   0.   0.   0.   0.   0.   0.   0.   0.   0.   0.   0.\n",
      "   0.   0.   0.   0. 127. 251. 251. 253.  62.   0.   0.   0.   0.   0.\n",
      "   0.   0.   0.   0.   0.   0.   0.   0.   0.   0.   0.   0.   0.   0.\n",
      "   0.   0.   0.  68. 236. 251. 211.  31.   8.   0.   0.   0.   0.   0.\n",
      "   0.   0.   0.   0.   0.   0.   0.   0.   0.   0.   0.   0.   0.   0.\n",
      "   0.   0.  60. 228. 251. 251.  94.   0.   0.   0.   0.   0.   0.   0.\n",
      "   0.   0.   0.   0.   0.   0.   0.   0.   0.   0.   0.   0.   0.   0.\n",
      "   0.   0. 155. 253. 253. 189.   0.   0.   0.   0.   0.   0.   0.   0.\n",
      "   0.   0.   0.   0.   0.   0.   0.   0.   0.   0.   0.   0.   0.   0.\n",
      "   0.  20. 253. 251. 235.  66.   0.   0.   0.   0.   0.   0.   0.   0.\n",
      "   0.   0.   0.   0.   0.   0.   0.   0.   0.   0.   0.   0.   0.   0.\n",
      "  32. 205. 253. 251. 126.   0.   0.   0.   0.   0.   0.   0.   0.   0.\n",
      "   0.   0.   0.   0.   0.   0.   0.   0.   0.   0.   0.   0.   0.   0.\n",
      " 104. 251. 253. 184.  15.   0.   0.   0.   0.   0.   0.   0.   0.   0.\n",
      "   0.   0.   0.   0.   0.   0.   0.   0.   0.   0.   0.   0.   0.  80.\n",
      " 240. 251. 193.  23.   0.   0.   0.   0.   0.   0.   0.   0.   0.   0.\n",
      "   0.   0.   0.   0.   0.   0.   0.   0.   0.   0.   0.   0.  32. 253.\n",
      " 253. 253. 159.   0.   0.   0.   0.   0.   0.   0.   0.   0.   0.   0.\n",
      "   0.   0.   0.   0.   0.   0.   0.   0.   0.   0.   0.   0. 151. 251.\n",
      " 251. 251.  39.   0.   0.   0.   0.   0.   0.   0.   0.   0.   0.   0.\n",
      "   0.   0.   0.   0.   0.   0.   0.   0.   0.   0.   0.  48. 221. 251.\n",
      " 251. 172.   0.   0.   0.   0.   0.   0.   0.   0.   0.   0.   0.   0.\n",
      "   0.   0.   0.   0.   0.   0.   0.   0.   0.   0.   0. 234. 251. 251.\n",
      " 196.  12.   0.   0.   0.   0.   0.   0.   0.   0.   0.   0.   0.   0.\n",
      "   0.   0.   0.   0.   0.   0.   0.   0.   0.   0.   0. 253. 251. 251.\n",
      "  89.   0.   0.   0.   0.   0.   0.   0.   0.   0.   0.   0.   0.   0.\n",
      "   0.   0.   0.   0.   0.   0.   0.   0.   0.   0. 159. 255. 253. 253.\n",
      "  31.   0.   0.   0.   0.   0.   0.   0.   0.   0.   0.   0.   0.   0.\n",
      "   0.   0.   0.   0.   0.   0.   0.   0.   0.  48. 228. 253. 247. 140.\n",
      "   8.   0.   0.   0.   0.   0.   0.   0.   0.   0.   0.   0.   0.   0.\n",
      "   0.   0.   0.   0.   0.   0.   0.   0.   0.  64. 251. 253. 220.   0.\n",
      "   0.   0.   0.   0.   0.   0.   0.   0.   0.   0.   0.   0.   0.   0.\n",
      "   0.   0.   0.   0.   0.   0.   0.   0.   0.  64. 251. 253. 220.   0.\n",
      "   0.   0.   0.   0.   0.   0.   0.   0.   0.   0.   0.   0.   0.   0.\n",
      "   0.   0.   0.   0.   0.   0.   0.   0.   0.  24. 193. 253. 220.   0.\n",
      "   0.   0.   0.   0.   0.   0.   0.   0.   0.   0.   0.   0.   0.   0.\n",
      "   0.   0.   0.   0.   0.   0.   0.   0.   0.   0.   0.   0.   0.   0.\n",
      "   0.   0.   0.   0.   0.   0.   0.   0.   0.   0.   0.   0.   0.   0.\n",
      "   0.   0.   0.   0.   0.   0.   0.   0.   0.   0.   0.   0.   0.   0.\n",
      "   0.   0.   0.   0.   0.   0.   0.   0.   0.   0.   0.   0.   0.   0.\n",
      "   0.   0.   0.   0.   0.   0.   0.   0.   0.   0.   0.   0.   0.   0.\n",
      "   0.   0.   0.   0.   0.   0.   0.   0.   0.   0.   0.   0.   0.   0.\n",
      "   0.]\n"
     ]
    }
   ],
   "source": [
    "# Define the kernel function\n",
    "def kernel(x, y):\n",
    "    return np.dot(x, y)\n",
    "\n",
    "# Initialize alpha to zero\n",
    "alpha = np.zeros(train_y.shape[0])\n",
    "\n",
    "# Compute the Gram matrix\n",
    "K = np.zeros((train_x.shape[0], train_x.shape[0]))\n",
    "for i in range(train_x.shape[0]):\n",
    "    for j in range(train_x.shape[0]):\n",
    "        K[i,j] = kernel(train_x[i], train_x[j])\n",
    "\n",
    "# Train the kernel perceptron\n",
    "for j in range(train_x.shape[0]):\n",
    "    y_pred = np.sign(np.dot(alpha*train_y, K[:,j]))\n",
    "    if y_pred != train_y[j]:\n",
    "        alpha[j] += 1\n",
    "\n",
    "# Compute the weight vector\n",
    "w_kernel = np.sum(alpha.reshape(-1,1) * train_y.reshape(-1,1) * train_x, axis=0)\n",
    "\n",
    "# Compare the learned weight vectors\n",
    "print('*'*20, \" Weight vector from step 4 \", '*'*20)\n",
    "print(w)\n",
    "print()\n",
    "print('*'*100)\n",
    "print()\n",
    "print('*'*20, \"Weight vector from kernel perceptron \", '*'*20)\n",
    "print(w_kernel)"
   ]
  },
  {
   "cell_type": "markdown",
   "metadata": {
    "id": "UEROdYXj66_u"
   },
   "source": [
    "## H 2.3 (40 pts)\n",
    "Use a second degree polynomial kernel to classify four samples in 2D space, distributed in an XOR pattern (i.e., points on opposite diagonals of a rectangle have same labels)"
   ]
  },
  {
   "cell_type": "markdown",
   "metadata": {
    "id": "f4IOBM_ZsTxD"
   },
   "source": [
    "#### Defining the XOR Data"
   ]
  },
  {
   "cell_type": "code",
   "execution_count": 20,
   "metadata": {
    "id": "w-XN1FQ9sWgy"
   },
   "outputs": [],
   "source": [
    "# Define XOR pattern data\n",
    "X = np.array([[0, 0], [0, 1], [1, 0], [1, 1]])\n",
    "y = np.array([-1, 1, 1, -1])"
   ]
  },
  {
   "cell_type": "code",
   "execution_count": 21,
   "metadata": {
    "colab": {
     "base_uri": "https://localhost:8080/",
     "height": 472
    },
    "id": "NJP-UhLoluir",
    "outputId": "fce09a52-3951-4546-b555-9b7a8a406471"
   },
   "outputs": [
    {
     "data": {
      "image/png": "[encoded data removed]",
      "text/plain": [
       "<Figure size 640x480 with 1 Axes>"
      ]
     },
     "metadata": {},
     "output_type": "display_data"
    }
   ],
   "source": [
    "# Define the second-degree polynomial kernel\n",
    "def polynomial_kernel(x1, x2, degree=2, coef0=1):\n",
    "    return (np.dot(x1, x2) + coef0) ** degree\n",
    "\n",
    "# Projected Gradient Descent algorithm for SVM\n",
    "def projected_gradient_descent(X, y, kernel, C, tol=1e-5, max_iter=10000, learning_rate=0.01):\n",
    "    n_samples = X.shape[0]\n",
    "    alpha = np.zeros(n_samples)\n",
    "    b = 0.0\n",
    "    K = np.zeros((n_samples, n_samples))\n",
    "\n",
    "    for i in range(n_samples):\n",
    "        for j in range(n_samples):\n",
    "            K[i, j] = kernel(X[i], X[j])\n",
    "\n",
    "    for _ in range(max_iter):\n",
    "        grad = np.ones(n_samples) - np.dot(K * np.outer(y, y), alpha)\n",
    "        alpha = alpha + learning_rate * grad\n",
    "\n",
    "        # Project alpha back into the feasible set\n",
    "        alpha = np.clip(alpha, 0, C)\n",
    "\n",
    "        # Update bias term\n",
    "        support_vectors = (alpha > tol)\n",
    "        b = np.mean(y[support_vectors] - np.dot(K[support_vectors] * y[support_vectors, np.newaxis], alpha))\n",
    "\n",
    "    return alpha, b\n",
    "\n",
    "# Train the SVM model\n",
    "C = 1.0\n",
    "alpha, b = projected_gradient_descent(X, y, polynomial_kernel, C)\n",
    "\n",
    "# Define the prediction function\n",
    "def predict(x):\n",
    "    return np.sign(np.sum(alpha * y * polynomial_kernel(X, x)) + b)\n",
    "\n",
    "# Create a meshgrid to plot the decision boundary\n",
    "x_min, x_max = X[:, 0].min() - 1, X[:, 0].max() + 1\n",
    "y_min, y_max = X[:, 1].min() - 1, X[:, 1].max() + 1\n",
    "xx, yy = np.meshgrid(np.arange(x_min, x_max, 0.1),\n",
    "                     np.arange(y_min, y_max, 0.1))\n",
    "Z = np.array([predict(np.array([x, y]))\n",
    "              for x, y in zip(xx.ravel(), yy.ravel())])\n",
    "Z = Z.reshape(xx.shape)\n",
    "\n",
    "# Plot the data and decision boundary\n",
    "plt.contourf(xx, yy, Z, alpha=0.4)\n",
    "plt.scatter(X[:, 0], X[:, 1], c=y, alpha=0.8)\n",
    "\n",
    "# Add labels to the points\n",
    "point_labels = ['(0, 0)', '(0, 1)', '(1, 0)', '(1, 1)']\n",
    "for i, txt in enumerate(point_labels):\n",
    "    plt.annotate(txt, (X[i, 0] + 0.1, X[i, 1]), fontsize=10, color='black')\n",
    "\n",
    "plt.xlim(xx.min(), xx.max())\n",
    "plt.ylim(yy.min(), yy.max())\n",
    "plt.title(\"SVM Decision Boundary\")\n",
    "plt.xlabel(\"x1\")\n",
    "plt.ylabel(\"x2\")\n",
    "plt.show()"
   ]
  },
  {
   "cell_type": "markdown",
   "metadata": {
    "id": "jwBdx886_e5s"
   },
   "source": [
    "### (a) \n",
    "Map 2D feature vectors $x = [x(1) x(2)]^T$ using kernel function $K(x_1, x_2) = (1+x_1^T x_2)^2$, which results in 6D feature vectors: \n",
    "$$\\phi(x) = [1, \\sqrt2x(1), \\sqrt2x(2), x(1)^2 x(2)^2, \\sqrt2x(1)x(2)]^T$$\n",
    "Show that the features vectors are linearly separable in the 5D space."
   ]
  },
  {
   "cell_type": "markdown",
   "metadata": {
    "id": "Sy_7QYBDI27q"
   },
   "source": [
    "#### Mathematical Solution"
   ]
  },
  {
   "cell_type": "markdown",
   "metadata": {
    "id": "1V1xDenhCude"
   },
   "source": [
    "Consider the given kernel function: $K(x_1, x_2) = (1+x_1^Tx_2)^2$\n",
    "\n",
    "The XOR Pattern Data:\n",
    "\n",
    "X = [(0,0), (0,1), (1,0), (1,1)]\n",
    "\n",
    "y = [-1,1,1,-1]\n",
    "\n",
    "Using the mapping function belwow to map 2D feature vectors to 6D feature vectors:\n",
    "\n",
    "$$\\phi(x) = [1, \\sqrt2x(1), \\sqrt2x(2), x(1)^2 x(2)^2, \\sqrt2x(1)x(2)]$$\n",
    "\n",
    "Transformed feature vectors for each point in X:\n",
    "\n",
    "$\\phi(0,0) = [1,0,0,0,0,0]$\n",
    "\n",
    "$\\phi(0,1) = [1,0,\\sqrt2,0,1,0]$\n",
    "\n",
    "$\\phi(1,0) = [1,\\sqrt2,0,1,0,0]$\n",
    "\n",
    "$\\phi(1,1) = [1,\\sqrt2,\\sqrt2,1,1,2]$\n",
    "\n",
    "Checking if these transformed vectors are lineary separable in the 6D sapce. In orde to do this we check if there exists a hyperplane that is capable to seperate the +ve and -ve examples.\n",
    "\n",
    "Considering the following hyperplane:\n",
    "\n",
    "$w = [0,0,0,-1,0]$\n",
    "\n",
    "$b = -0.5$\n",
    "\n",
    "*For the +ve Examples (y = 1): (0,1) and (1,0)*\n",
    "\n",
    "$$w^T \\phi(0,1) +b = [0,0,0,1,-1,0] * [1,0,\\sqrt2,0,1,0]^T - 0.5 = 1 - 0.5 > 0$$\n",
    "$$w^T \\phi(1,0) +b = [0,0,0,1,-1,0] * [1,\\sqrt2,0,1,0,0]^T - 0.5 = 1 - 0.5 > 0$$\n",
    "\n",
    "*For the +ve Examples (y = -1): (0,0) and (1,1)*\n",
    "\n",
    "$$w^T \\phi(0,0) +b = [0,0,0,1,-1,0] * [1,0,0,0,0,0]^T - 0.5 = 0 - 0.5 < 0$$\n",
    "$$w^T \\phi(1,1) +b = [0,0,0,1,-1,0] * [1,\\sqrt2,\\sqrt2,1,1,2]^T - 0.5 = 0 - 0.5 < 0$$\n",
    "\n",
    "**Therefore, it is being observed that the chosen hyperplane successfully seperates the transformed feature vectors in the 6D space**\n",
    "\n"
   ]
  },
  {
   "cell_type": "markdown",
   "metadata": {
    "id": "YCF0O8_bI8W4"
   },
   "source": [
    "#### Implementing the above Script"
   ]
  },
  {
   "cell_type": "code",
   "execution_count": 22,
   "metadata": {
    "id": "4AHtsXQk_K7c"
   },
   "outputs": [],
   "source": [
    "# Define the polynomial kernel function for multiple samples\n",
    "def polynomial_kernel2(X1, X2):\n",
    "    return (1 + np.dot(X1, X2.T)) ** 2\n",
    "\n",
    "# Define the 2D samples\n",
    "x1 = np.array([0, 0])\n",
    "x2 = np.array([0, 1])\n",
    "x3 = np.array([1, 0])\n",
    "x4 = np.array([1, 1])\n",
    "\n",
    "# Define the mapped 6D feature vectors\n",
    "z1 = np.array([1, np.sqrt(2) * 0, np.sqrt(2) * 0, 0, 0, np.sqrt(2) * 0])\n",
    "z2 = np.array([1, np.sqrt(2) * 0, np.sqrt(2) * 1, 0, 1, np.sqrt(2) * 0])\n",
    "z3 = np.array([1, np.sqrt(2) * 1, np.sqrt(2) * 0, 1, 0, np.sqrt(2) * 0])\n",
    "z4 = np.array([1, np.sqrt(2) * 1, np.sqrt(2) * 1, 1, 1, np.sqrt(2) * 1])\n",
    "\n",
    "# Define the labels\n",
    "y1 = -1\n",
    "y2 = 1\n",
    "y3 = 1\n",
    "y4 = -1\n"
   ]
  },
  {
   "cell_type": "code",
   "execution_count": 23,
   "metadata": {
    "colab": {
     "base_uri": "https://localhost:8080/",
     "height": 415
    },
    "id": "20B8LvW9_gWF",
    "outputId": "309342bf-720d-42fe-d34e-acd716cfe329"
   },
   "outputs": [
    {
     "data": {
      "image/png": "[encoded data removed]",
      "text/plain": [
       "<Figure size 640x480 with 1 Axes>"
      ]
     },
     "metadata": {},
     "output_type": "display_data"
    }
   ],
   "source": [
    "fig = plt.figure()\n",
    "ax = fig.add_subplot(111, projection='3d')\n",
    "\n",
    "# Plot the feature vectors in 3D space\n",
    "points = [z1, z2, z3, z4]\n",
    "colors = ['r', 'g', 'g', 'r']\n",
    "labels = ['z1', 'z2', 'z3', 'z4']\n",
    "\n",
    "for i, (point, color, label) in enumerate(zip(points, colors, labels)):\n",
    "    ax.scatter(point[1], point[2], point[5], c=color, marker='o')\n",
    "    ax.text(point[1], point[2], point[5], f\"{label} ({point[1]:.2f}, {point[2]:.2f}, {point[5]:.2f})\")\n",
    "\n",
    "ax.set_xlabel('z1')\n",
    "ax.set_ylabel('z2')\n",
    "ax.set_zlabel('z6')\n",
    "\n",
    "plt.show()"
   ]
  },
  {
   "cell_type": "markdown",
   "metadata": {
    "id": "grgB3vGR_vOg"
   },
   "source": [
    "### (b), (c)\n",
    "The dual objective for SVM can be written as\n",
    "\n",
    "$$L(α) = -\\frac{1}{2} α^TGα + ∑_{i=1}^4α_i$$\n",
    "\n",
    "where G is a 4 × 4 matrix with $G(i, j) = y_i y_j \\phi(x_i)^T \\phi(x_j)$ Compute G matrix and $α$ that\n",
    "maximize $L(α)$.\n",
    "\n",
    "Hint: You will get a simple linear equation that the optimal solution must satisfy. Compute the\n",
    "G matrix and solve the linear problem to get your answer."
   ]
  },
  {
   "cell_type": "markdown",
   "metadata": {
    "id": "A64Q4g5bLTIu"
   },
   "source": [
    "**We have the XOR pattern data:**\n",
    "\n",
    "X = [(0, 0), (0, 1), (1, 0), (1, 1)]\n",
    "\n",
    "y = [-1, 1, 1, -1]\n",
    "\n",
    "\n",
    "> The transformed feature vectors are:\n",
    "\n",
    "\n",
    "$Φ(0, 0) = [1, 0, 0, 0, 0, 0]$\n",
    "\n",
    "$Φ(0, 1) = [1, 0, √2, 0, 1, 0]$\n",
    "\n",
    "$Φ(1, 0) = [1, √2, 0, 1, 0, 0]$\n",
    "\n",
    "$Φ(1, 1) = [1, √2, √2, 1, 1, 2]$\n",
    "\n",
    "\n",
    "\n",
    "> Now, let's compute the G matrix, with $G(i, j) = y_i y_j Φ(x_i)^T Φ(x_j):$\n",
    "\n",
    "\n",
    "\n",
    "$G =\n",
    "[[(-1)(-1)Φ(0,0)^TΦ(0,0) (-1)(1)Φ(0,0)^TΦ(0,1) (-1)(1)Φ(0,0)^TΦ(1,0) (-1)(-1)Φ(0,0)^TΦ(1,1)]$\n",
    "\n",
    "\n",
    "$[(1)(-1)Φ(0,1)^TΦ(0,0) (1)(1)Φ(0,1)^TΦ(0,1) (1)(1)Φ(0,1)^TΦ(1,0) (1)(-1)Φ(0,1)^TΦ(1,1)]$\n",
    "\n",
    "\n",
    "$[(1)(-1)Φ(1,0)^TΦ(0,0) (1)(1)Φ(1,0)^TΦ(0,1) (1)(1)Φ(1,0)^TΦ(1,0) (1)(-1)Φ(1,0)^TΦ(1,1)]$\n",
    "\n",
    "\n",
    "$[(-1)(-1)Φ(1,1)^TΦ(0,0) (-1)(1)Φ(1,1)^TΦ(0,1) (-1)(1)Φ(1,1)^TΦ(1,0) (-1)(-1)Φ(1,1)^TΦ(1,1)]]$\n",
    "\n",
    "\n",
    "\n",
    "> Calculating the dot products, we get:\n",
    "\n",
    "\n",
    "\n",
    "\n",
    "$G =\n",
    "[[1, -1, -1, 3]\n",
    "[-1, 3, 1, -1]\n",
    "[-1, 1, 3, -1]\n",
    "[ 3, -1, -1, 7]]$\n",
    "\n",
    "\n",
    "\n",
    "> Now, we need to find α that maximizes the dual objective:\n",
    "\n",
    "\n",
    "\n",
    "\n",
    "$$L(α) = -\\frac{1}{2} α^TGα + ∑_{i=1}^4α_i$$\n",
    "\n",
    "\n",
    "\n",
    "> The constraints\n",
    "\n",
    "\n",
    "$α_i ≥ 0$\n",
    "\n",
    "$∑_{i=1}^4 y_iα_i = 0$\n",
    "\n",
    "\n",
    "\n",
    "> We can find the optimal α by solving the following linear system:\n",
    "\n",
    "\n",
    "\n",
    "$[y][α] = 0$\n",
    "\n",
    "$[-1,1,1,-1][α_1, α_2, α_3, α_4]^T = 0$\n",
    "\n",
    "For the SVM with the XOR problem, we can assume that $α_1$ = $α_4$ and $α_2 = α_3$. Then,\n",
    "\n",
    "Assuming that $α_1 = α_4$ and $α_2 = α_3$, we have:\n",
    "\n",
    "$-α_1 + α_2 + α_3 - α_4 = 0$\n",
    "\n",
    "Substituting the assumed equalities:\n",
    "\n",
    "$-α_1 + α_2 + α_2 - α_1 = 0$\n",
    "\n",
    "Simplifying:\n",
    "\n",
    "$2α_2 = 2α_1$\n",
    "\n",
    "$α_2 = α_1$\n",
    "\n",
    "Now that we have found the relationship between α_1 and α_2 (and also between α_3 and α_4), we can compute the optimal α values by maximizing the dual objective:\n",
    "\n",
    "$$L(α) = -\\frac{1}{2} α^TGα + ∑_{i=1}^4α_i$$\n",
    "\n",
    "To maximize L(α), we need to compute the gradient and set it equal to zero:\n",
    "\n",
    "$∇L(α)=−Gα+1=0$\n",
    "\n",
    "Given the G matrix and the relationships between α values, we have:\n",
    "\n",
    "$-Gα+1 = - \\begin{bmatrix}\n",
    "    1 & -1 & -1 & 3 \\\\\n",
    "    -1 & 3 & 1 & -1 \\\\\n",
    "    -1 & 1 & 3 & -1 \\\\\n",
    "    3 & -1 & -1 & 7\n",
    "  \\end{bmatrix}\n",
    "  \\begin{bmatrix}\n",
    "    α_1 \\\\\n",
    "    α_1 \\\\\n",
    "    α_1 \\\\\n",
    "    α_1\n",
    "  \\end{bmatrix} + 1 = 0$\n",
    "\n",
    "Solving for $α_1$:\n",
    "\n",
    "$\\begin{bmatrix}\n",
    "    2 & 0 & 0 & 2 \\\\\n",
    "    0 & 2 & 2 & 0 \\\\\n",
    "    0 & 2 & 2 & 0 \\\\\n",
    "    2 & 0 & 0 & 8\n",
    "  \\end{bmatrix}\n",
    "  \\begin{bmatrix}\n",
    "    α_1 \\\\\n",
    "    α_1 \\\\\n",
    "    α_1 \\\\\n",
    "    α_1\n",
    "  \\end{bmatrix} = \\begin{bmatrix}\n",
    "    1 \\\\\n",
    "    1 \\\\\n",
    "    1 \\\\\n",
    "    1\n",
    "  \\end{bmatrix}$\n",
    "\n",
    "$\\begin{bmatrix}\n",
    "    4 \\\\\n",
    "    4 \\\\\n",
    "    4 \\\\\n",
    "    10\n",
    "  \\end{bmatrix} = α_1 \\begin{bmatrix}\n",
    "    1 \\\\\n",
    "    1 \\\\\n",
    "    1 \\\\\n",
    "    1\n",
    "  \\end{bmatrix}$\n",
    "\n",
    "From the first row, we get:\n",
    "\n",
    "$4α_1 = 1$\n",
    "\n",
    "$α_1 = \\frac{1}{4}$\n",
    "\n",
    "Now we have the optimal $α$ values:\n",
    "\n",
    "$α = [α_1, α_2, α_3, α_4]^T = [\\frac{1}{4}, \\frac{1}{4}, \\frac{1}{4}, \\frac{1}{10}]^T$"
   ]
  },
  {
   "cell_type": "markdown",
   "metadata": {
    "id": "-tAFn1ypPCEw"
   },
   "source": [
    "### (d)\n",
    "Compute the SVM weight vector $w = ∑_iα_iy_i\\phi(x_i)$ and an expression for $h_w(x) = w^T\\phi(x) = ∑_iα_iy_i\\phi(x_i)^T\\phi(x)$. Plot w and discuss which features in the 6D space have highest effect on classification."
   ]
  },
  {
   "cell_type": "code",
   "execution_count": 24,
   "metadata": {
    "colab": {
     "base_uri": "https://localhost:8080/"
    },
    "id": "5gPaCH6KUWv8",
    "outputId": "9cb36019-1d42-4e82-b582-4e4a43edb331"
   },
   "outputs": [
    {
     "name": "stdout",
     "output_type": "stream",
     "text": [
      "SVM weight vector w: [ 0.11111111  0.15713484  0.15713484  0.11111111  0.11111111 -1.25707872]\n"
     ]
    }
   ],
   "source": [
    "X_transformed = np.array([\n",
    "    [1, np.sqrt(2) * x[0], np.sqrt(2) * x[1], x[0] ** 2, x[1] ** 2, np.sqrt(2) * x[0] * x[1]] for x in X\n",
    "])\n",
    "\n",
    "w = np.sum(alpha * y * X_transformed.T, axis=1)\n",
    "print(\"SVM weight vector w:\", w)"
   ]
  },
  {
   "cell_type": "code",
   "execution_count": 25,
   "metadata": {
    "colab": {
     "base_uri": "https://localhost:8080/",
     "height": 472
    },
    "id": "hMJWsLz_UYYr",
    "outputId": "0cdc5f86-2f16-4dfe-f324-bba85eb922c3"
   },
   "outputs": [
    {
     "data": {
      "image/png": "[encoded data removed]",
      "text/plain": [
       "<Figure size 640x480 with 1 Axes>"
      ]
     },
     "metadata": {},
     "output_type": "display_data"
    }
   ],
   "source": [
    "feature_names = ['1', '√2x(1)', '√2x(2)', 'x(1)^2', 'x(2)^2', '√2x(1)x(2)']\n",
    "bar_plot = plt.bar(feature_names, w)\n",
    "\n",
    "plt.title(\"SVM Weight Vector w\")\n",
    "plt.xlabel(\"Features\")\n",
    "plt.ylabel(\"Weight\")\n",
    "\n",
    "# Add value labels to the bars\n",
    "for bar in bar_plot:\n",
    "    height = bar.get_height()\n",
    "    plt.text(\n",
    "        bar.get_x() + bar.get_width() / 2,\n",
    "        height,\n",
    "        f\"{height:.2f}\",\n",
    "        ha=\"center\",\n",
    "        va=\"bottom\",\n",
    "    )\n",
    "\n",
    "plt.show()"
   ]
  },
  {
   "cell_type": "markdown",
   "metadata": {
    "id": "3ylZabeKUwiJ"
   },
   "source": [
    "**The $\\sqrt2x(1)$ and $\\sqrt2x(2)$ features have the highest effect on classification**"
   ]
  },
  {
   "cell_type": "markdown",
   "metadata": {
    "id": "cr4--giEc-D9"
   },
   "source": [
    "## H 2.4 Support vector machines (SVM): (60 pts)"
   ]
  },
  {
   "cell_type": "code",
   "execution_count": 26,
   "metadata": {
    "colab": {
     "base_uri": "https://localhost:8080/"
    },
    "id": "qsPxnAHybQak",
    "outputId": "2393be87-cd74-4429-f7bc-503155be72ef"
   },
   "outputs": [
    {
     "name": "stdout",
     "output_type": "stream",
     "text": [
      "C: 0.001, Error rate: 0.04125000000000001\n",
      "C: 0.01, Error rate: 0.04125000000000001\n",
      "C: 0.1, Error rate: 0.04125000000000001\n",
      "C: 1.0, Error rate: 0.04125000000000001\n",
      "C: 10.0, Error rate: 0.04125000000000001\n",
      "C: 100.0, Error rate: 0.04125000000000001\n",
      "C: 1000.0, Error rate: 0.04125000000000001\n",
      "Best C value: 0.001\n",
      "Test error rate: 0.04271878242822558\n"
     ]
    }
   ],
   "source": [
    "# Load MNIST dataset\n",
    "X, y = fetch_openml(\"mnist_784\", version=1, return_X_y=True, as_frame=False)\n",
    "\n",
    "# Extract only the images of digits \"4\" and \"9\"\n",
    "X4 = X[y == '4', :]\n",
    "X9 = X[y == '9', :]\n",
    "\n",
    "# Split the data into training and testing sets\n",
    "X_train_4, X_test_4 = X4[:4000], X4[4000:]\n",
    "X_train_9, X_test_9 = X9[:4000], X9[4000:]\n",
    "X_train = np.vstack((X_train_4, X_train_9))\n",
    "X_test = np.vstack((X_test_4, X_test_9))\n",
    "y_train = np.hstack((np.ones(X_train_4.shape[0]), -np.ones(X_train_9.shape[0])))\n",
    "y_test = np.hstack((np.ones(X_test_4.shape[0]), -np.ones(X_test_9.shape[0])))\n",
    "\n",
    "# Split the training set into two parts: for fitting the classifier and the holdout set\n",
    "X_fit, X_holdout, y_fit, y_holdout = train_test_split(X_train, y_train, test_size=0.2, random_state=42)\n",
    "\n",
    "# Use a logarithmic grid of C values\n",
    "C_values = np.logspace(-3, 3, 7)\n",
    "\n",
    "# Train the SVM with a linear kernel using different values of C and find the best C value\n",
    "best_C = None\n",
    "best_error_rate = float(\"inf\")\n",
    "\n",
    "for C in C_values:\n",
    "    clf = svm.SVC(C=C, kernel='linear')\n",
    "    clf.fit(X_fit, y_fit)\n",
    "    error_rate = 1 - clf.score(X_holdout, y_holdout)\n",
    "    print(f\"C: {C}, Error rate: {error_rate}\")\n",
    "    \n",
    "    if error_rate < best_error_rate:\n",
    "        best_error_rate = error_rate\n",
    "        best_C = C\n",
    "\n",
    "print(f\"Best C value: {best_C}\")\n",
    "\n",
    "# Train the SVM on the entire training set with the best C value\n",
    "clf = svm.SVC(C=best_C, kernel='linear')\n",
    "clf.fit(X_train, y_train)\n",
    "\n",
    "# Calculate the error rate on the testing set\n",
    "test_error_rate = 1 - clf.score(X_test, y_test)\n",
    "print(f\"Test error rate: {test_error_rate}\")"
   ]
  },
  {
   "cell_type": "markdown",
   "metadata": {
    "id": "RLgJMka14tza"
   },
   "source": [
    "### (a) \n",
    "Train an SVM using the kernels $k(u, v) = (u^T v + 1)^p$, p = 1, 2, that is, the inhomogeneous linear and quadratic kernel. To do this, you will want to set the parameters kernel=’poly’ and degree=1 or degree=2.\n",
    "\n",
    "For each kernel, report the best value of C, the test error, and the number of data points that are support vectors  (returned via clf.support_vectors_). Turn in your code."
   ]
  },
  {
   "cell_type": "markdown",
   "metadata": {
    "id": "Nc8HSlSsaqM9"
   },
   "source": [
    "#### Loading and preparing the Dataset"
   ]
  },
  {
   "cell_type": "code",
   "execution_count": 27,
   "metadata": {
    "colab": {
     "base_uri": "https://localhost:8080/"
    },
    "id": "3yEnSXKcasXd",
    "outputId": "f8cd434f-d62e-49b1-c0f9-b7c95965781c"
   },
   "outputs": [
    {
     "name": "stderr",
     "output_type": "stream",
     "text": [
      "/usr/local/lib/python3.10/dist-packages/sklearn/datasets/_openml.py:968: FutureWarning: The default value of `parser` will change from `'liac-arff'` to `'auto'` in 1.4. You can set `parser='auto'` to silence this warning. Therefore, an `ImportError` will be raised from 1.4 if the dataset is dense and pandas is not installed. Note that the pandas parser may return different data types. See the Notes Section in fetch_openml's API doc for details.\n",
      "  warn(\n"
     ]
    }
   ],
   "source": [
    "# Load MNIST dataset\n",
    "X, y = fetch_openml(\"mnist_784\", version=1, return_X_y=True, as_frame=False)\n",
    "\n",
    "# Extract only the images of digits \"4\" and \"9\"\n",
    "X4 = X[y == '4', :]\n",
    "X9 = X[y == '9', :]\n",
    "\n",
    "# Split the data into training and testing sets\n",
    "X_train_4, X_test_4 = X4[:4000], X4[4000:]\n",
    "X_train_9, X_test_9 = X9[:4000], X9[4000:]\n",
    "X_train = np.vstack((X_train_4, X_train_9))\n",
    "X_test = np.vstack((X_test_4, X_test_9))\n",
    "y_train = np.hstack((np.ones(X_train_4.shape[0]), -np.ones(X_train_9.shape[0])))\n",
    "y_test = np.hstack((np.ones(X_test_4.shape[0]), -np.ones(X_test_9.shape[0])))\n",
    "\n",
    "# Normalize the input data\n",
    "X_train = X_train / 255.0\n",
    "X_test = X_test / 255.0\n",
    "\n",
    "# Split the training set into two parts: for fitting the classifier and the holdout set\n",
    "X_fit, X_holdout, y_fit, y_holdout = train_test_split(X_train, y_train, test_size=0.2, random_state=42)"
   ]
  },
  {
   "cell_type": "markdown",
   "metadata": {
    "id": "-dA9qw_Xa28h"
   },
   "source": [
    "#### Helper Functions"
   ]
  },
  {
   "cell_type": "code",
   "execution_count": 28,
   "metadata": {
    "id": "ZrR9qzy4a5Bi"
   },
   "outputs": [],
   "source": [
    "# Function to calculate the error rate with a polynomial kernel\n",
    "def calculate_error_rate_poly_kernel(X, y, w, p):\n",
    "    predictions = np.sign((np.dot(X, w) + 1) ** p)\n",
    "    return 1 - np.mean(predictions == y)"
   ]
  },
  {
   "cell_type": "markdown",
   "metadata": {
    "id": "2QWU24PGbAWq"
   },
   "source": [
    "#### Main Function"
   ]
  },
  {
   "cell_type": "code",
   "execution_count": 29,
   "metadata": {
    "id": "ECr-BERrbCIg"
   },
   "outputs": [],
   "source": [
    "# Function to train a linear SVM using the PEGASOS algorithm with a polynomial kernel\n",
    "def train_svm_poly_kernel(X, y, C, p, epochs=100, learning_rate=1e-3):\n",
    "    n_samples, n_features = X.shape\n",
    "    w = np.zeros(n_features)\n",
    "\n",
    "    for epoch in range(epochs):\n",
    "        for i in range(n_samples):\n",
    "            eta = learning_rate / (epoch + 1)\n",
    "            K = (np.dot(X[i], w) + 1) ** p\n",
    "            if y[i] * K < 1:\n",
    "                w = (1 - eta) * w + eta * C * y[i] * X[i] * (K / (np.dot(X[i], w) + 1)) ** (p - 1)\n",
    "            else:\n",
    "                w = (1 - eta) * w\n",
    "\n",
    "    return w"
   ]
  },
  {
   "cell_type": "markdown",
   "metadata": {
    "id": "uwHq1WqKbDvl"
   },
   "source": [
    "#### The Implementation"
   ]
  },
  {
   "cell_type": "code",
   "execution_count": 30,
   "metadata": {
    "colab": {
     "base_uri": "https://localhost:8080/"
    },
    "id": "Ne_a8yAEdqDg",
    "outputId": "232ca0c2-0552-4b0d-e6eb-7413302b05b5"
   },
   "outputs": [
    {
     "name": "stdout",
     "output_type": "stream",
     "text": [
      "For Degree: 1, and C: 0.001, the Error rate is: 0.49750000000000005\n",
      "For Degree: 1, and C: 0.01, the Error rate is: 0.49750000000000005\n",
      "For Degree: 1, and C: 0.1, the Error rate is: 0.49750000000000005\n",
      "For Degree: 1, and C: 1.0, the Error rate is: 0.06374999999999997\n",
      "For Degree: 1, and C: 10.0, the Error rate is: 0.034375000000000044\n",
      "For Degree: 1, and C: 100.0, the Error rate is: 0.02562500000000001\n",
      "For Degree: 1, and C: 1000.0, the Error rate is: 0.02124999999999999\n",
      "\n",
      "For Degree: 1, The Best C value is: 1000.0\n",
      "\n",
      "For Degree: 1, Test error rate is: 0.45451400899342786\n",
      "\n",
      "For Degree: 1, Number of support vectors are: 101\n",
      "**************************************************\n",
      "\n",
      "For Degree: 2, and C: 0.001, the Error rate is: 0.49750000000000005\n",
      "For Degree: 2, and C: 0.01, the Error rate is: 0.49750000000000005\n",
      "For Degree: 2, and C: 0.1, the Error rate is: 0.49750000000000005\n",
      "For Degree: 2, and C: 1.0, the Error rate is: 0.49750000000000005\n",
      "For Degree: 2, and C: 10.0, the Error rate is: 0.49750000000000005\n"
     ]
    },
    {
     "name": "stderr",
     "output_type": "stream",
     "text": [
      "<ipython-input-29-ef5595271949>:9: RuntimeWarning: overflow encountered in double_scalars\n",
      "  K = (np.dot(X[i], w) + 1) ** p\n",
      "<ipython-input-29-ef5595271949>:11: RuntimeWarning: invalid value encountered in multiply\n",
      "  w = (1 - eta) * w + eta * C * y[i] * X[i] * (K / (np.dot(X[i], w) + 1)) ** (p - 1)\n"
     ]
    },
    {
     "name": "stdout",
     "output_type": "stream",
     "text": [
      "For Degree: 2, and C: 100.0, the Error rate is: 1.0\n",
      "For Degree: 2, and C: 1000.0, the Error rate is: 1.0\n",
      "\n",
      "For Degree: 2, The Best C value is: 0.001\n",
      "\n",
      "For Degree: 2, Test error rate is: 0.5115876859218264\n",
      "\n",
      "For Degree: 2, Number of support vectors are: 8000\n",
      "**************************************************\n",
      "\n"
     ]
    }
   ],
   "source": [
    "# Use a logarithmic grid of C values\n",
    "C_values = np.logspace(-3, 3, 7)\n",
    "\n",
    "# Train the SVM with polynomial kernels for degree 1 and 2\n",
    "for degree in [1, 2]:\n",
    "    best_C = None\n",
    "    best_error_rate = float(\"inf\")\n",
    "\n",
    "    for C in C_values:\n",
    "        w = train_svm_poly_kernel(X_fit, y_fit, C, degree)\n",
    "        error_rate = calculate_error_rate_poly_kernel(X_holdout, y_holdout, w, degree)\n",
    "        print(f\"For Degree: {degree}, and C: {C}, the Error rate is: {error_rate}\")\n",
    "\n",
    "        if error_rate < best_error_rate:\n",
    "            best_error_rate = error_rate\n",
    "            best_C = C\n",
    "\n",
    "    print()\n",
    "    print(f\"For Degree: {degree}, The Best C value is: {best_C}\")\n",
    "    print()\n",
    "\n",
    "    # Train the SVM on the entire training set with the best C value\n",
    "    w = train_svm_poly_kernel(X_train, y_train, best_C, degree)\n",
    "\n",
    "    # Calculate the error rate on the testing set\n",
    "    test_error_rate = calculate_error_rate_poly_kernel(X_test, y_test, w, degree)\n",
    "    print(f\"For Degree: {degree}, Test error rate is: {test_error_rate}\")\n",
    "    print()\n",
    "\n",
    "    # Train the SVM on the entire training set with the best C value to get support vectors\n",
    "    w_full = train_svm_poly_kernel(X_train, y_train, best_C, degree)\n",
    "    margin = 1 / np.linalg.norm(w_full)\n",
    "    support_vectors = X_train[np.abs(y_train - (np.dot(X_train, w_full) + 1) ** degree) < margin]\n",
    "    num_support_vectors = support_vectors.shape[0]\n",
    "\n",
    "    print(f\"For Degree: {degree}, Number of support vectors are: {num_support_vectors}\")\n",
    "    print('*'*50)\n",
    "    print()"
   ]
  },
  {
   "cell_type": "markdown",
   "metadata": {
    "id": "DEvvuPPF-LRU"
   },
   "source": [
    "### b\n",
    "Repeat the above using the radial basis function kernel $k(u, v) = e^{− γ||u−vk||^2}$ (by setting the parameters kernel='rbf', gamma=gamma. You will now need to determine the best value for both C and $γ$ Report the best value of C and $γ$ the test error, and the number of support vectors."
   ]
  },
  {
   "cell_type": "code",
   "execution_count": 31,
   "metadata": {
    "colab": {
     "base_uri": "https://localhost:8080/"
    },
    "id": "Jeq9cf5f4rPY",
    "outputId": "5427b265-25c8-48ad-bbf4-8908b98dd5f8"
   },
   "outputs": [
    {
     "name": "stdout",
     "output_type": "stream",
     "text": [
      "C: 0.001, Gamma: 0.001, Error rate: 0.5025\n",
      "C: 0.001, Gamma: 0.01, Error rate: 0.5025\n",
      "C: 0.001, Gamma: 0.1, Error rate: 0.5025\n",
      "C: 0.001, Gamma: 1.0, Error rate: 0.5025\n",
      "C: 0.001, Gamma: 10.0, Error rate: 0.5025\n",
      "C: 0.001, Gamma: 100.0, Error rate: 0.5025\n",
      "C: 0.001, Gamma: 1000.0, Error rate: 0.5025\n",
      "C: 0.01, Gamma: 0.001, Error rate: 0.48\n",
      "C: 0.01, Gamma: 0.01, Error rate: 0.06000000000000005\n",
      "C: 0.01, Gamma: 0.1, Error rate: 0.5025\n",
      "C: 0.01, Gamma: 1.0, Error rate: 0.5025\n",
      "C: 0.01, Gamma: 10.0, Error rate: 0.5025\n",
      "C: 0.01, Gamma: 100.0, Error rate: 0.5025\n",
      "C: 0.01, Gamma: 1000.0, Error rate: 0.5025\n",
      "C: 0.1, Gamma: 0.001, Error rate: 0.05312499999999998\n",
      "C: 0.1, Gamma: 0.01, Error rate: 0.020625000000000004\n",
      "C: 0.1, Gamma: 0.1, Error rate: 0.18374999999999997\n",
      "C: 0.1, Gamma: 1.0, Error rate: 0.5025\n",
      "C: 0.1, Gamma: 10.0, Error rate: 0.5025\n",
      "C: 0.1, Gamma: 100.0, Error rate: 0.5025\n",
      "C: 0.1, Gamma: 1000.0, Error rate: 0.5025\n",
      "C: 1.0, Gamma: 0.001, Error rate: 0.03125\n",
      "C: 1.0, Gamma: 0.01, Error rate: 0.008750000000000036\n",
      "C: 1.0, Gamma: 0.1, Error rate: 0.03249999999999997\n",
      "C: 1.0, Gamma: 1.0, Error rate: 0.500625\n",
      "C: 1.0, Gamma: 10.0, Error rate: 0.5025\n",
      "C: 1.0, Gamma: 100.0, Error rate: 0.5025\n",
      "C: 1.0, Gamma: 1000.0, Error rate: 0.5025\n",
      "C: 10.0, Gamma: 0.001, Error rate: 0.018750000000000044\n",
      "C: 10.0, Gamma: 0.01, Error rate: 0.006249999999999978\n",
      "C: 10.0, Gamma: 0.1, Error rate: 0.030625000000000013\n",
      "C: 10.0, Gamma: 1.0, Error rate: 0.499375\n",
      "C: 10.0, Gamma: 10.0, Error rate: 0.5025\n",
      "C: 10.0, Gamma: 100.0, Error rate: 0.5025\n",
      "C: 10.0, Gamma: 1000.0, Error rate: 0.5025\n",
      "C: 100.0, Gamma: 0.001, Error rate: 0.011249999999999982\n",
      "C: 100.0, Gamma: 0.01, Error rate: 0.007499999999999951\n",
      "C: 100.0, Gamma: 0.1, Error rate: 0.030625000000000013\n",
      "C: 100.0, Gamma: 1.0, Error rate: 0.499375\n",
      "C: 100.0, Gamma: 10.0, Error rate: 0.5025\n",
      "C: 100.0, Gamma: 100.0, Error rate: 0.5025\n",
      "C: 100.0, Gamma: 1000.0, Error rate: 0.5025\n",
      "C: 1000.0, Gamma: 0.001, Error rate: 0.010624999999999996\n",
      "C: 1000.0, Gamma: 0.01, Error rate: 0.007499999999999951\n",
      "C: 1000.0, Gamma: 0.1, Error rate: 0.030625000000000013\n",
      "C: 1000.0, Gamma: 1.0, Error rate: 0.499375\n",
      "C: 1000.0, Gamma: 10.0, Error rate: 0.5025\n",
      "C: 1000.0, Gamma: 100.0, Error rate: 0.5025\n",
      "C: 1000.0, Gamma: 1000.0, Error rate: 0.5025\n",
      "\n",
      "The Best C value is: 10.0, and The Best Gamma value is: 0.01\n",
      "\n",
      "Test error rate =  0.010549982704946337\n",
      "\n",
      "Number of support vectors =  803\n"
     ]
    }
   ],
   "source": [
    "# Use a logarithmic grid of C and gamma values\n",
    "C_values = np.logspace(-3, 3, 7)\n",
    "gamma_values = np.logspace(-3, 3, 7)\n",
    "\n",
    "best_C = None\n",
    "best_gamma = None\n",
    "best_error_rate = float(\"inf\")\n",
    "\n",
    "for C in C_values:\n",
    "    for gamma in gamma_values:\n",
    "        clf = svm.SVC(C=C, kernel='rbf', gamma=gamma)\n",
    "        clf.fit(X_fit, y_fit)\n",
    "        error_rate = 1 - clf.score(X_holdout, y_holdout)\n",
    "        print(f\"C: {C}, Gamma: {gamma}, Error rate: {error_rate}\")\n",
    "\n",
    "        if error_rate < best_error_rate:\n",
    "            best_error_rate = error_rate\n",
    "            best_C = C\n",
    "            best_gamma = gamma\n",
    "print()\n",
    "print(f\"The Best C value is: {best_C}, and The Best Gamma value is: {best_gamma}\")\n",
    "print()\n",
    "\n",
    "# Train the SVM on the entire training set with the best C and gamma values\n",
    "clf = svm.SVC(C=best_C, kernel='rbf', gamma=best_gamma)\n",
    "clf.fit(X_train, y_train)\n",
    "\n",
    "# Calculate the error rate on the testing set\n",
    "test_error_rate = 1 - clf.score(X_test, y_test)\n",
    "print(f\"Test error rate =  {test_error_rate}\")\n",
    "print()\n",
    "\n",
    "# Number of support vectors\n",
    "num_support_vectors = clf.support_vectors_.shape[0]\n",
    "print(f\"Number of support vectors =  {num_support_vectors}\")"
   ]
  },
  {
   "cell_type": "markdown",
   "metadata": {
    "id": "Ue46CM5scBF2"
   },
   "source": [
    "### (c)\n",
    "For each kernel, turn in a 4 × 4 subplot showing images of the 16 support vectors that violate the margin by the greatest amount (these are, in a sense, the “hardest” examples to classify), and explain how these are determined. Above each subplot, indicate the true label (4 or 9)."
   ]
  },
  {
   "cell_type": "code",
   "execution_count": 32,
   "metadata": {
    "colab": {
     "base_uri": "https://localhost:8080/",
     "height": 428
    },
    "id": "tobgjsUl-R1l",
    "outputId": "5c296d52-f1b9-4149-9736-e9392d68b8b9"
   },
   "outputs": [
    {
     "data": {
      "image/png": "[encoded data removed]",
      "text/plain": [
       "<Figure size 640x480 with 16 Axes>"
      ]
     },
     "metadata": {},
     "output_type": "display_data"
    }
   ],
   "source": [
    "# Get the support vectors and their labels\n",
    "support_vectors = clf.support_vectors_\n",
    "support_labels = y_train[clf.support_]\n",
    "\n",
    "# Calculate the signed distance from each support vector to the decision boundary\n",
    "distances = clf.decision_function(support_vectors)\n",
    "\n",
    "# Get the indices of the 16 support vectors with the highest distance violation\n",
    "violation_indices = np.argsort(np.abs(distances))[-16:]\n",
    "\n",
    "# Plot the 16 support vectors with the highest distance violation\n",
    "f, axarr = plt.subplots(4, 4)\n",
    "for i, idx in enumerate(violation_indices):\n",
    "    axarr[i // 4, i % 4].imshow(support_vectors[idx].reshape((28, 28)), cmap='gray')\n",
    "    axarr[i // 4, i % 4].set_title(f\"{int(support_labels[idx])}\")\n",
    "    axarr[i // 4, i % 4].axis('off')\n",
    "\n",
    "plt.show()"
   ]
  },
  {
   "cell_type": "markdown",
   "metadata": {
    "id": "tP3Rd2XizeTN"
   },
   "source": [
    "# Submission"
   ]
  },
  {
   "cell_type": "code",
   "execution_count": null,
   "metadata": {
    "id": "3cgg6ASOzfe6"
   },
   "outputs": [],
   "source": [
    "!sudo apt-get update\n",
    "!sudo apt-get install texlive-xetex texlive-fonts-recommended"
   ]
  }
 ],
 "metadata": {
  "colab": {
   "provenance": []
  },
  "kernelspec": {
   "display_name": "Python 3 (ipykernel)",
   "language": "python",
   "name": "python3"
  },
  "language_info": {
   "codemirror_mode": {
    "name": "ipython",
    "version": 3
   },
   "file_extension": ".py",
   "mimetype": "text/x-python",
   "name": "python",
   "nbconvert_exporter": "python",
   "pygments_lexer": "ipython3",
   "version": "3.9.15"
  }
 },
 "nbformat": 4,
 "nbformat_minor": 1
}
